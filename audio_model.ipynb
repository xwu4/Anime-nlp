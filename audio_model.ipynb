{
 "cells": [
  {
   "cell_type": "code",
   "execution_count": 1,
   "metadata": {},
   "outputs": [],
   "source": [
    "import torch\n",
    "import pandas as pd\n",
    "import torch.nn as nn\n",
    "import torch.optim as optim\n",
    "from torch.utils.data import DataLoader\n",
    "import numpy as np\n",
    "from torch.utils.data import Dataset \n",
    "import torch.nn.utils as utils\n",
    "import time\n",
    "from torch.nn.utils.rnn import pad_sequence, pack_padded_sequence, pad_packed_sequence\n",
    "import Levenshtein as lev\n",
    "import matplotlib.pyplot as plt\n",
    "from torch.utils.data.sampler import SubsetRandomSampler\n",
    "\n",
    "import seaborn as sns\n",
    "import random"
   ]
  },
  {
   "cell_type": "code",
   "execution_count": 2,
   "metadata": {},
   "outputs": [],
   "source": [
    "LETTER_LIST = ['<sos>', 'a', 'b', 'c', 'd', 'e', 'f', 'g', 'h', 'i', 'j', 'k', 'l', 'm', 'n', 'o', 'p', 'q', \\\n",
    "               'r', 's', 't', 'u', 'v', 'w', 'x', 'y', 'z', 'A', 'B', 'C', 'D', 'E', 'F', 'G', 'H', 'I', 'J', \\\n",
    "               'K', 'L', 'M', 'N', 'O', 'P', 'Q', 'R', 'S', 'T', 'U', 'V', 'W', 'X', 'Y', 'Z', '0', '1', '2', \\\n",
    "               '3', '4', '5', '6', '7','8', '9', '-', \"'\", '.', '_', '+', ',', '?', '!', '[', ']', '=', '(', \\\n",
    "               ')', ':', '/', '\"', ' ', '<eos>']"
   ]
  },
  {
   "cell_type": "code",
   "execution_count": 3,
   "metadata": {},
   "outputs": [
    {
     "name": "stdout",
     "output_type": "stream",
     "text": [
      "81\n"
     ]
    }
   ],
   "source": [
    "print(len(LETTER_LIST))"
   ]
  },
  {
   "cell_type": "code",
   "execution_count": 4,
   "metadata": {},
   "outputs": [
    {
     "name": "stdout",
     "output_type": "stream",
     "text": [
      "Thu Apr 29 04:24:59 2021       \r\n",
      "+-----------------------------------------------------------------------------+\r\n",
      "| NVIDIA-SMI 450.80.02    Driver Version: 450.80.02    CUDA Version: 11.0     |\r\n",
      "|-------------------------------+----------------------+----------------------+\r\n",
      "| GPU  Name        Persistence-M| Bus-Id        Disp.A | Volatile Uncorr. ECC |\r\n",
      "| Fan  Temp  Perf  Pwr:Usage/Cap|         Memory-Usage | GPU-Util  Compute M. |\r\n",
      "|                               |                      |               MIG M. |\r\n",
      "|===============================+======================+======================|\r\n",
      "|   0  Tesla T4            On   | 00000000:00:1E.0 Off |                    0 |\r\n",
      "| N/A   31C    P8    10W /  70W |      3MiB / 15109MiB |      0%      Default |\r\n",
      "|                               |                      |                  N/A |\r\n",
      "+-------------------------------+----------------------+----------------------+\r\n",
      "                                                                               \r\n",
      "+-----------------------------------------------------------------------------+\r\n",
      "| Processes:                                                                  |\r\n",
      "|  GPU   GI   CI        PID   Type   Process name                  GPU Memory |\r\n",
      "|        ID   ID                                                   Usage      |\r\n",
      "|=============================================================================|\r\n",
      "|  No running processes found                                                 |\r\n",
      "+-----------------------------------------------------------------------------+\r\n"
     ]
    }
   ],
   "source": [
    "!nvidia-smi"
   ]
  },
  {
   "cell_type": "code",
   "execution_count": 5,
   "metadata": {},
   "outputs": [],
   "source": [
    "def create_dictionaries(letter_list):\n",
    "    letter2index = {}\n",
    "    index2letter = {}\n",
    "    for i in range(0,len(letter_list)):\n",
    "        letter2index[letter_list[i]]=i\n",
    "        index2letter[i]=letter_list[i]\n",
    "    \n",
    "    return letter2index, index2letter\n",
    "\n",
    "letter2index, index2letter = create_dictionaries(LETTER_LIST)"
   ]
  },
  {
   "cell_type": "code",
   "execution_count": 6,
   "metadata": {},
   "outputs": [
    {
     "name": "stdout",
     "output_type": "stream",
     "text": [
      "   Number  Start time in milliseconds  End time in milliseconds  \\\n",
      "0       1                        1650                     10800   \n",
      "1       2                       53940                     58090   \n",
      "2       3                       58700                     61440   \n",
      "3       4                       62060                     66540   \n",
      "4       5                       66540                     69550   \n",
      "\n",
      "                                                Text  \\\n",
      "0                                   TOHO CORPORATION   \n",
      "1  Some mornings, I wake up crying without knowin...   \n",
      "2      That's when everything happens now and again.   \n",
      "3  Whatever that dream was I had, I can never rem...   \n",
      "4                                  - But... - But...   \n",
      "\n",
      "                                            idx_text  \n",
      "0  [46, 41, 34, 41, 79, 29, 41, 44, 42, 41, 44, 2...  \n",
      "1  [45, 15, 13, 5, 79, 13, 15, 18, 14, 9, 14, 7, ...  \n",
      "2  [46, 8, 1, 20, 64, 19, 79, 23, 8, 5, 14, 79, 5...  \n",
      "3  [49, 8, 1, 20, 5, 22, 5, 18, 79, 20, 8, 1, 20,...  \n",
      "4  [63, 79, 28, 21, 20, 65, 65, 65, 79, 63, 79, 2...  \n"
     ]
    }
   ],
   "source": [
    "df = pd.read_table(\"knnw_en_sub.csv\", sep = \";\", header=0)\n",
    "idx_text = []\n",
    "for i in range(df.shape[0]):\n",
    "    text = df.iloc[i][3]\n",
    "    split_text = text.split()\n",
    "    \n",
    "    l = []\n",
    "    for word in split_text:\n",
    "        for c in word:\n",
    "            if c == 'é':\n",
    "                c = 'e'\n",
    "            if c == \"“\" or c == \"”\":\n",
    "                c = '\"'\n",
    "            l.append(letter2index[c])\n",
    "        l.append(letter2index[' '])#Space between the words use letter2index\n",
    "    l=l[:-1]\n",
    "    l.append(letter2index['<eos>'])#End of the sentence\n",
    "    idx_text.append(l)\n",
    "df['idx_text'] = idx_text\n",
    "print(df.head())\n",
    "    "
   ]
  },
  {
   "cell_type": "code",
   "execution_count": 7,
   "metadata": {},
   "outputs": [
    {
     "name": "stdout",
     "output_type": "stream",
     "text": [
      "1393\n"
     ]
    }
   ],
   "source": [
    "total_frames=1370582 \n",
    "total_duration=6396010\n",
    "duration_per_frame = total_duration / total_frames\n",
    "audio = np.load(\"knnw_en.log_spectrogram.npy\")\n",
    "\n",
    "def get_index(time, start_flag):\n",
    "    if start_flag == True:\n",
    "        return np.floor(time/duration_per_frame)\n",
    "        \n",
    "    else:\n",
    "        return np.ceil(time/duration_per_frame)\n",
    "        \n",
    "def get_range(start_time, end_time):\n",
    "        \n",
    "    start_index = get_index(start_time, start_flag=True)\n",
    "    stop_index  = get_index(end_time, start_flag=False)\n",
    "        \n",
    "    return range(int(start_index), int(stop_index))\n",
    "\n",
    "audio_array = []\n",
    "for i in range(df.shape[0]):\n",
    "    \n",
    "    start_time = df.iloc[i][1]\n",
    "    stop_time = df.iloc[i][2]\n",
    "    \n",
    "    audio_range = get_range(start_time, stop_time)\n",
    "    audio_item = torch.as_tensor(audio[:,audio_range]).float().permute(1,0)\n",
    "    audio_array.append(audio_item)\n",
    "print(len(audio_array))\n",
    "    "
   ]
  },
  {
   "cell_type": "code",
   "execution_count": 8,
   "metadata": {},
   "outputs": [],
   "source": [
    "class Speech2TextDataset(Dataset):\n",
    "    '''\n",
    "    Dataset class for the speech to text data, this may need some tweaking in the\n",
    "    getitem method as your implementation in the collate function may be different from\n",
    "    ours. \n",
    "    '''\n",
    "    def __init__(self, speech, text=None, isTrain=True):\n",
    "        self.speech = speech\n",
    "        self.isTrain = isTrain\n",
    "        if (text is not None):\n",
    "            self.text = text\n",
    "\n",
    "    def __len__(self):\n",
    "        return len(self.speech)\n",
    "\n",
    "    def __getitem__(self, index):\n",
    "        if (self.isTrain == True):\n",
    "            return self.speech[index], torch.tensor(self.text[index])\n",
    "        else:\n",
    "            return self.speech[index]\n",
    "\n",
    "def collate_train(batch_data):\n",
    "    #This batch will contain the speech,speech len and the text,text len\n",
    "    ### Return the padded speech and text data, and the length of utterance and transcript ###\n",
    "    X=[]\n",
    "    Xlen=[]\n",
    "    Y=[]\n",
    "    Ylen=[]\n",
    "    #print(\"Length of batch data :\",len(batch_data))\n",
    "    for i in range(len(batch_data)):\n",
    "#         X.append(torch.tensor(batch_data[i][0]))\n",
    "        X.append(batch_data[i][0])\n",
    "        Xlen.append(len(batch_data[i][0]))\n",
    "#         Y.append(torch.tensor(batch_data[i][1]))\n",
    "        Y.append(batch_data[i][1])\n",
    "        Ylen.append(len(batch_data[i][1]))\n",
    "        \n",
    "    Xpad=pad_sequence(X, batch_first=True)#(B, T, C) \n",
    "    Ypad=pad_sequence(Y, batch_first=True)#(B, T, C) \n",
    "    \n",
    "    return Xpad,torch.tensor(Xlen),Ypad,torch.tensor(Ylen)\n",
    "\n",
    "def collate_test(batch_data):\n",
    "    ### Return padded speech and length of utterance ###\n",
    "    X=[]\n",
    "    Xlen=[]\n",
    "    for i in range(len(batch_data)):\n",
    "        X.append(torch.tensor(batch_data[i]))\n",
    "        Xlen.append(torch.tensor(len(batch_data[i])))\n",
    "        #print(len(batch_data[i]))\n",
    "        \n",
    "    Xpad=pad_sequence(X, batch_first=True)\n",
    "    \n",
    "    return Xpad,torch.tensor(Xlen)\n"
   ]
  },
  {
   "cell_type": "code",
   "execution_count": 10,
   "metadata": {},
   "outputs": [],
   "source": [
    "batch_size = 16\n",
    "validation_split = .2\n",
    "shuffle_dataset = True\n",
    "random_seed= 11785"
   ]
  },
  {
   "cell_type": "code",
   "execution_count": 51,
   "metadata": {},
   "outputs": [],
   "source": [
    "# Creating data indices for training and validation splits:\n",
    "dataset_size = len(audio_array)\n",
    "indices = list(range(dataset_size))\n",
    "split = int(np.floor(validation_split * dataset_size))\n",
    "if shuffle_dataset :\n",
    "    np.random.seed(random_seed)\n",
    "    np.random.shuffle(indices)\n",
    "train_indices, val_indices = indices[split:], indices[:split]"
   ]
  },
  {
   "cell_type": "code",
   "execution_count": 54,
   "metadata": {},
   "outputs": [
    {
     "name": "stdout",
     "output_type": "stream",
     "text": [
      "1115\n",
      "278\n"
     ]
    }
   ],
   "source": [
    "train_dataset = Speech2TextDataset(audio_array[split:], idx_text[split:])\n",
    "valid_dataset = Speech2TextDataset(audio_array[:split], idx_text[:split])\n",
    "print(len(train_dataset))\n",
    "print(len(valid_dataset))"
   ]
  },
  {
   "cell_type": "code",
   "execution_count": 55,
   "metadata": {},
   "outputs": [],
   "source": [
    "\n",
    "\n",
    "\n",
    "# Creating PT data samplers and loaders:\n",
    "train_sampler = SubsetRandomSampler(train_indices)\n",
    "valid_sampler = SubsetRandomSampler(val_indices)\n",
    "\n",
    "train_loader = torch.utils.data.DataLoader(train_dataset, batch_size=batch_size, shuffle=True, collate_fn=collate_train,num_workers=8,pin_memory=True)\n",
    "valid_loader = torch.utils.data.DataLoader(valid_dataset, batch_size=batch_size, shuffle=False, collate_fn=collate_train,num_workers=8,pin_memory=True)\n",
    "\n",
    "\n",
    "# train_loader = torch.utils.data.DataLoader(dataset, batch_size=batch_size, sampler=train_sampler,collate_fn=collate_train,num_workers=8,pin_memory=True)\n",
    "# valid_loader = torch.utils.data.DataLoader(dataset, batch_size=batch_size, sampler=valid_sampler,collate_fn=collate_train,num_workers=8,pin_memory=True)"
   ]
  },
  {
   "cell_type": "code",
   "execution_count": 56,
   "metadata": {},
   "outputs": [
    {
     "data": {
      "text/plain": [
       "70"
      ]
     },
     "execution_count": 56,
     "metadata": {},
     "output_type": "execute_result"
    }
   ],
   "source": [
    "len(train_loader)"
   ]
  },
  {
   "cell_type": "code",
   "execution_count": 57,
   "metadata": {},
   "outputs": [
    {
     "data": {
      "text/plain": [
       "18"
      ]
     },
     "execution_count": 57,
     "metadata": {},
     "output_type": "execute_result"
    }
   ],
   "source": [
    "len(valid_loader)"
   ]
  },
  {
   "cell_type": "code",
   "execution_count": 58,
   "metadata": {},
   "outputs": [],
   "source": [
    "from torch.autograd import Variable\n",
    "class LockedDropout(nn.Module):\n",
    "    def __init__(self):\n",
    "        super().__init__()\n",
    "\n",
    "    def forward(self, x, dropout=0.5):\n",
    "        # x': (B, L, C)\n",
    "        if dropout == 0 or not self.training:\n",
    "            return x\n",
    "        mask = x.data.new(x.size(0), 1, x.size(2))\n",
    "        mask = mask.bernoulli_(1 - dropout)\n",
    "        mask = Variable(mask, requires_grad=False) / (1 - dropout)\n",
    "        mask = mask.expand_as(x)\n",
    "        \n",
    "        return mask * x"
   ]
  },
  {
   "cell_type": "code",
   "execution_count": 59,
   "metadata": {},
   "outputs": [],
   "source": [
    "class Attention(nn.Module):\n",
    "    '''\n",
    "    Attention is calculated using key, value and query from Encoder and decoder.\n",
    "    Below are the set of operations you need to perform for computing attention:\n",
    "        energy = bmm(key, query)\n",
    "        attention = softmax(energy)\n",
    "        context = bmm(attention, value)\n",
    "    '''\n",
    "    def __init__(self):\n",
    "        super(Attention, self).__init__()\n",
    "\n",
    "    def forward(self, query, key, value, lens):\n",
    "        '''\n",
    "        :param query :(batch_size, hidden_size) Query is the output of LSTMCell from Decoder\n",
    "        :param keys: (batch_size, max_len, encoder_size) Key Projection from Encoder\n",
    "        :param values: (batch_size, max_len, encoder_size) Value Projection from Encoder\n",
    "        :return context: (batch_size, encoder_size) Attended Context\n",
    "        :return attention_mask: (batch_size, max_len) Attention mask that can be plotted \n",
    "        \n",
    "        '''\n",
    "        #print('query type :',type(query))\n",
    "        # Compute (batch_size, max_len) attention logits. \"bmm\" stands for \"batch matrix multiplication\".\n",
    "        # Input shape of bmm:  (batch_size, max_len, hidden_size), (batch_size, hidden_size, 1) \n",
    "        # Output shape of bmm: (batch_size, max_len, 1)\n",
    "        #print(\"Shape of key:\",key.shape)\n",
    "        attention = torch.bmm(key, query.unsqueeze(2)).squeeze(2)\n",
    "        \n",
    "        \n",
    "        # Create an (batch_size, max_len) boolean mask for all padding positions\n",
    "        # Make use of broadcasting: (1, max_len), (batch_size, 1) -> (batch_size, max_len)\n",
    "        mask = torch.arange(key.size(1)).unsqueeze(0) >= lens.unsqueeze(1)\n",
    "        mask=mask.to(device)\n",
    "        # Set attention logits at padding positions to negative infinity.\n",
    "        attention.masked_fill_(mask, -1e9)\n",
    "        \n",
    "        # Take softmax over the \"source length\" dimension.\n",
    "        attention = nn.functional.softmax(attention, dim=1)\n",
    "        \n",
    "        # Compute attention-weighted sum of context vectors\n",
    "        # Input shape of bmm: (batch_size, 1, max_len), (batch_size, max_len, hidden_size) \n",
    "        # Output shape of bmm: (batch_size, 1, hidden_size)\n",
    "        context = torch.bmm(attention.unsqueeze(1), value).squeeze(1)\n",
    "        \n",
    "        # attention vectors are returned for visualization\n",
    "        return context, attention\n",
    "        \n"
   ]
  },
  {
   "cell_type": "code",
   "execution_count": 60,
   "metadata": {},
   "outputs": [],
   "source": [
    "class pBLSTM(nn.Module):\n",
    "    '''\n",
    "    Pyramidal BiLSTM\n",
    "    The length of utterance (speech input) can be hundereds to thousands of frames long.\n",
    "    The Paper reports that a direct LSTM implementation as Encoder resulted in slow convergence,\n",
    "    and inferior results even after extensive training.\n",
    "    The major reason is inability of AttendAndSpell operation to extract relevant information\n",
    "    from a large number of input steps.\n",
    "    '''\n",
    "    def __init__(self, input_dim, hidden_dim, dropout_rate=0.0):\n",
    "        super(pBLSTM, self).__init__()\n",
    "        self.blstm = nn.LSTM(input_size=input_dim, hidden_size=hidden_dim, num_layers=1,dropout=dropout_rate, bidirectional=True,batch_first=True)\n",
    "        self.lockdrop = LockedDropout()\n",
    "        self.dropout=dropout_rate\n",
    "\n",
    "    def forward(self, x):\n",
    "        '''\n",
    "        :param x :(N, T) input to the pBLSTM\n",
    "        :return output: (N, T, H) encoded sequence from pyramidal Bi-LSTM \n",
    "        '''\n",
    "        #First we unpack the sequence\n",
    "        x_pad,x_len=utils.rnn.pad_packed_sequence(x,batch_first=True)\n",
    "\n",
    "        x_pad = self.lockdrop(x_pad, self.dropout)\n",
    "        x_pad=x_pad[:,:(x_pad.shape[1]//2)*2,:]\n",
    "        \n",
    "        x_pad = x_pad.contiguous().view(x_pad.shape[0],int(x_pad.shape[1]//2),x_pad.shape[2]*2)        \n",
    "\n",
    "        #print(\"Shape of output after x_pad :\",x_pad.shape)\n",
    "        x_len=x_len//2\n",
    "\n",
    "        #Now we pack this back to send it off to the LSTM\n",
    "        x_pack = utils.rnn.pack_padded_sequence(x_pad, lengths=x_len, batch_first=True, enforce_sorted=False)\n",
    "\n",
    "        output, _ = self.blstm(x_pack)\n",
    "        \n",
    "        return output"
   ]
  },
  {
   "cell_type": "code",
   "execution_count": 61,
   "metadata": {},
   "outputs": [],
   "source": [
    "class Encoder(nn.Module):\n",
    "    '''\n",
    "    Encoder takes the utterances as inputs and returns the key and value.\n",
    "    Key and value are nothing but simple projections of the output from pBLSTM network.\n",
    "    '''\n",
    "    def __init__(self, input_dim, hidden_dim, value_size=128,key_size=128,dropout_rate=0.0,dropouti=0):\n",
    "        super(Encoder, self).__init__()\n",
    "        self.lstm = nn.LSTM(input_size=input_dim, hidden_size=256, num_layers=1, bidirectional=True,batch_first=True)\n",
    "        #print(\"hidden dimension is :\",hidden_dim)\n",
    "        \n",
    "        ### Add code to define the blocks of pBLSTMs! ###\n",
    "        self.pBLSTM1=pBLSTM(hidden_dim*4, hidden_dim,dropout_rate=dropout_rate)#Can change it to 2\n",
    "        self.pBLSTM2=pBLSTM(hidden_dim*4, hidden_dim,dropout_rate=dropout_rate)\n",
    "        self.pBLSTM3=pBLSTM(hidden_dim*4, hidden_dim,dropout_rate=dropout_rate)\n",
    "        \n",
    "        #print(hidden_dim)\n",
    "        #print(type(hidden_dim)\n",
    "        \n",
    "        self.key_network = nn.Linear(hidden_dim*2, value_size)\n",
    "        self.value_network = nn.Linear(hidden_dim*2, key_size)\n",
    "        \n",
    "        self.dropout=dropouti\n",
    "        self.lockdrop = LockedDropout()\n",
    "\n",
    "\n",
    "    def forward(self, x, lens):\n",
    "        #print(\"X shape :\",x.shape)\n",
    "        #print(lens)\n",
    "        rnn_inp = utils.rnn.pack_padded_sequence(x, lengths=lens, batch_first=True, enforce_sorted=False)\n",
    "        outputs, _ = self.lstm(rnn_inp)\n",
    "        \n",
    "        outputs=self.pBLSTM1(outputs)#We get a packed sequence output \n",
    "        outputs=self.pBLSTM2(outputs)#We get a packed sequence output \n",
    "        outputs=self.pBLSTM3(outputs)#We get a packed sequence output \n",
    "        \n",
    "        linear_input,encoder_lens = utils.rnn.pad_packed_sequence(outputs,batch_first=True)\n",
    "        \n",
    "        linear_input = self.lockdrop(linear_input, self.dropout)\n",
    "        keys = self.key_network(linear_input)\n",
    "        value = self.value_network(linear_input)\n",
    "\n",
    "        return keys, value,encoder_lens\n"
   ]
  },
  {
   "cell_type": "code",
   "execution_count": 62,
   "metadata": {},
   "outputs": [],
   "source": [
    "class Decoder(nn.Module):\n",
    "    '''\n",
    "    As mentioned in a previous recitation, each forward call of decoder deals with just one time step, \n",
    "    thus we use LSTMCell instead of LSLTM here.\n",
    "    The output from the second LSTMCell can be used as query here for attention module.\n",
    "    In place of value that we get from the attention, this can be replace by context we get from the attention.\n",
    "    Methods like Gumble noise and teacher forcing can also be incorporated for improving the performance.\n",
    "    '''\n",
    "    def __init__(self, vocab_size, hidden_dim, value_size=128, key_size=128, isAttended=True):#isAttended was set to false originally\n",
    "        super(Decoder, self).__init__()\n",
    "        hidden_dim=key_size + value_size\n",
    "        self.embedding = nn.Embedding(vocab_size, hidden_dim, padding_idx=letter2index['<eos>'])#b,max_len,hidden_decoder\n",
    "        self.lstm1 = nn.LSTMCell(input_size=768, hidden_size=256)#512,512\n",
    "        self.lstm2 = nn.LSTMCell(input_size=256, hidden_size=key_size)#Why is this key size\n",
    "        \n",
    "        \n",
    "        self.isAttended = isAttended\n",
    "        if (isAttended == True):\n",
    "            self.attention = Attention()\n",
    "\n",
    "        self.character_prob = nn.Linear(key_size + value_size, vocab_size)\n",
    "        self.value_size=value_size \n",
    "        self.embedding.weight=self.character_prob.weight\n",
    "        \n",
    "        \n",
    "        self.fc1 = nn.Linear(256, 256)\n",
    "        self.selu1 = nn.SELU()\n",
    "#         #self.bn1 = nn.BatchNorm1d(256)\n",
    "        self.selu2 = nn.SELU()\n",
    "#         #self.bn2 = nn.BatchNorm1d(256)\n",
    "        self.fc2 = nn.Linear(256, 256)\n",
    "        \n",
    "        \n",
    "        self.init_weights()\n",
    "        \n",
    "    def init_weights(self):\n",
    "        initrange = 0.1\n",
    "        self.embedding.weight.data.uniform_(-initrange, initrange)\n",
    "        self.character_prob.bias.data.zero_()\n",
    "        self.character_prob.weight.data.uniform_(-initrange, initrange)\n",
    "\n",
    "\n",
    "    def forward(self, epoch,batch_idx,encoder_lens,teacherForcingRate,key, values, text=None, isTrain=True):\n",
    "        '''\n",
    "        :param key :( N,T, key_size) Output of the Encoder Key projection layer\n",
    "        :param values: (N, T,value_size) Output of the Encoder Value projection layer\n",
    "        :param text: (N, text_len) Batch input of text with text_length\n",
    "        :param isTrain: Train or eval mode\n",
    "        :return predictions: Returns the character perdiction probability \n",
    "        '''\n",
    "        batch_size = key.shape[0]\n",
    "\n",
    "        if (isTrain == True):\n",
    "            max_len =  text.shape[1]\n",
    "            embeddings = self.embedding(text)\n",
    "        else:\n",
    "            max_len = 600\n",
    "            \n",
    "        total_attention=[]\n",
    "        predictions = []\n",
    "        hidden_states = [None, None]\n",
    "        prediction = torch.zeros(batch_size,1).to(device)#(torch.ones(batch_size, 1)*33).to(DEVICE)\n",
    "        context = values[:, 0, :].reshape(values.size(0),values.size(2))\n",
    "        teacherForcingRate=teacherForcingRate \n",
    "        \n",
    "        for i in range(max_len):\n",
    "            # * Implement Gumble noise and teacher forcing techniques \n",
    "            # * When attention is True, replace values[i,:,:] with the context you get from attention.\n",
    "            # * If you haven't implemented attention yet, then you may want to check the index and break \n",
    "            #   out of the loop so you do not get index out of range errors. \n",
    "            \n",
    "            if (isTrain):\n",
    "                #We consider Teacher forcing at first\n",
    "                #Then we check if i=0 or not\n",
    "                tf = np.random.random()\n",
    "                if tf > teacherForcingRate :\n",
    "                    if i==0:\n",
    "                        char_embed=self.embedding(torch.zeros(batch_size,dtype=torch.long).fill_(letter2index['<sos>']).to(device))\n",
    "                        #print(torch.zeros(batch_size,dtype=torch.long).fill_(letter2index['<sos>']))\n",
    "                    else:\n",
    "                        #We use the ground truth\n",
    "                        char_embed = embeddings[:,i-1,:].to(device)#Dimension is of B,1,hidden_dim\n",
    "                else:\n",
    "                    char_embed = self.embedding(prediction.argmax(dim=-1)).to(device)\n",
    "                    \n",
    "            else:\n",
    "                #Then we check if i=0 or not\n",
    "                if i==0:\n",
    "                    char_embed=self.embedding(torch.zeros(batch_size,dtype=torch.long).fill_(letter2index['<sos>']).to(device))\n",
    "                else:\n",
    "                    #char_embed = torch.nn.functional.gumbel_softmax(prediction).mm(self.embedding.weight)\n",
    "                    char_embed = self.embedding(prediction.argmax(dim=-1)).to(device)\n",
    "\n",
    "                \n",
    "            inp = torch.cat([char_embed, context], dim=1)#Char Embed dim:B,H_ and Context:B,hidden_dim\n",
    "            hidden_states[0] = self.lstm1(inp, hidden_states[0])\n",
    "\n",
    "            inp_2 = hidden_states[0][0]\n",
    "            hidden_states[1] = self.lstm2(inp_2, hidden_states[1])\n",
    "\n",
    "            ### Compute attention from the output of the second LSTM Cell ###\n",
    "            output = hidden_states[1][0]\n",
    "                        \n",
    "            #if self.isAttended :\n",
    "            context,masked_attention=self.attention(output,key,values, encoder_lens)\n",
    "            total_attention.append(masked_attention.detach().cpu())\n",
    "            \n",
    "            output = self.selu1(self.fc1(output))\n",
    "            context = self.selu2(self.fc2(context))\n",
    "            context = context.to(device)\n",
    "\n",
    "            prediction = self.character_prob(torch.cat([output, context], dim=1))#Dimension is of B,hidden_dim for context\n",
    "                                                                                 #Dimension is of B,hidden_dim for context\n",
    "            predictions.append(prediction.unsqueeze(1))\n",
    "            \n",
    "        if batch_idx+1==70:\n",
    "            \n",
    "            all_attentions = torch.stack(total_attention, dim=1)\n",
    "            \n",
    "            plt.clf()\n",
    "            \n",
    "            sns.heatmap(all_attentions[0,:,:], cmap='GnBu')\n",
    "            plt.show()\n",
    "            print(\"all_attentions shape :\",all_attentions.shape)\n",
    "            \n",
    "#             fig = plt.figure()\n",
    "#             plt.imshow(all_attentions[0,:,:], cmap=\"hot\")\n",
    "#             plt.show()\n",
    "#             #plt.imsave('./attention', fig, cmap='hot')\n",
    "#             plt.close()\n",
    "            \n",
    "\n",
    "        return torch.cat(predictions, dim=1)#This is B,T,Vocab_size"
   ]
  },
  {
   "cell_type": "code",
   "execution_count": 63,
   "metadata": {},
   "outputs": [],
   "source": [
    "class Seq2Seq(nn.Module):\n",
    "    '''\n",
    "    We train an end-to-end sequence to sequence model comprising of Encoder and Decoder.\n",
    "    This is simply a wrapper \"model\" for your encoder and decoder.\n",
    "    '''\n",
    "    def __init__(self, input_dim, vocab_size, hidden_dim, value_size=128, key_size=128, isAttended=True):\n",
    "        super(Seq2Seq, self).__init__()\n",
    "        self.dropout_rate=0.2\n",
    "        self.dropouti=0.2\n",
    "        self.encoder = Encoder(input_dim,256,256,256,self.dropout_rate,self.dropouti)\n",
    "        self.decoder = Decoder(vocab_size, hidden_dim,256,256)\n",
    "\n",
    "    def forward(self, epoch,batch_idx,teacherForcingRate,speech_input, speech_len, text_input=None, isTrain=True):\n",
    "        key, value, encoder_lens = self.encoder(speech_input, speech_len)\n",
    "        if (isTrain == True):\n",
    "            predictions = self.decoder(epoch,batch_idx,encoder_lens,teacherForcingRate,key, value, text_input,isTrain=True)\n",
    "        else:\n",
    "            predictions = self.decoder(epoch,batch_idx,encoder_lens,None,key, value, text=None, isTrain=False)\n",
    "        return predictions"
   ]
  },
  {
   "cell_type": "code",
   "execution_count": 64,
   "metadata": {},
   "outputs": [
    {
     "name": "stdout",
     "output_type": "stream",
     "text": [
      "81\n"
     ]
    },
    {
     "name": "stderr",
     "output_type": "stream",
     "text": [
      "/home/ubuntu/anaconda3/envs/pytorch_p36/lib/python3.6/site-packages/torch/nn/modules/rnn.py:60: UserWarning: dropout option adds dropout after all but last recurrent layer, so non-zero dropout expects num_layers greater than 1, but got dropout=0.2 and num_layers=1\n",
      "  \"num_layers={}\".format(dropout, num_layers))\n"
     ]
    }
   ],
   "source": [
    "#now we should build the model\n",
    "print(len(LETTER_LIST))\n",
    "model = Seq2Seq(input_dim=129, vocab_size=len(LETTER_LIST), hidden_dim=128)\n",
    "optimizer = optim.Adam(model.parameters(), lr=0.001)\n",
    "criterion = nn.CrossEntropyLoss(reduction='none')\n",
    "nepochs = 30"
   ]
  },
  {
   "cell_type": "code",
   "execution_count": 65,
   "metadata": {},
   "outputs": [
    {
     "data": {
      "text/plain": [
       "Seq2Seq(\n",
       "  (encoder): Encoder(\n",
       "    (lstm): LSTM(129, 256, batch_first=True, bidirectional=True)\n",
       "    (pBLSTM1): pBLSTM(\n",
       "      (blstm): LSTM(1024, 256, batch_first=True, dropout=0.2, bidirectional=True)\n",
       "      (lockdrop): LockedDropout()\n",
       "    )\n",
       "    (pBLSTM2): pBLSTM(\n",
       "      (blstm): LSTM(1024, 256, batch_first=True, dropout=0.2, bidirectional=True)\n",
       "      (lockdrop): LockedDropout()\n",
       "    )\n",
       "    (pBLSTM3): pBLSTM(\n",
       "      (blstm): LSTM(1024, 256, batch_first=True, dropout=0.2, bidirectional=True)\n",
       "      (lockdrop): LockedDropout()\n",
       "    )\n",
       "    (key_network): Linear(in_features=512, out_features=256, bias=True)\n",
       "    (value_network): Linear(in_features=512, out_features=256, bias=True)\n",
       "    (lockdrop): LockedDropout()\n",
       "  )\n",
       "  (decoder): Decoder(\n",
       "    (embedding): Embedding(81, 512, padding_idx=80)\n",
       "    (lstm1): LSTMCell(768, 256)\n",
       "    (lstm2): LSTMCell(256, 256)\n",
       "    (attention): Attention()\n",
       "    (character_prob): Linear(in_features=512, out_features=81, bias=True)\n",
       "    (fc1): Linear(in_features=256, out_features=256, bias=True)\n",
       "    (selu1): SELU()\n",
       "    (selu2): SELU()\n",
       "    (fc2): Linear(in_features=256, out_features=256, bias=True)\n",
       "  )\n",
       ")"
      ]
     },
     "execution_count": 65,
     "metadata": {},
     "output_type": "execute_result"
    }
   ],
   "source": [
    "device=torch.device(\"cuda:0\" if torch.cuda.is_available() else \"cpu\")\n",
    "# checkpoint = torch.load('./checkpoint_final/Model_attention_Final2_52.pth')#Resnet_50_checkpoint\n",
    "# model.load_state_dict(checkpoint)\n",
    "model.to(device)\n",
    "model"
   ]
  },
  {
   "cell_type": "code",
   "execution_count": 66,
   "metadata": {},
   "outputs": [],
   "source": [
    "#For predictions\n",
    "def predictions(pred):\n",
    "    sentence_full=[]\n",
    "    for sentence in pred:#Taking every sentence\n",
    "        sent=''\n",
    "        for char in sentence:\n",
    "            if char==80:\n",
    "                #print(char)\n",
    "                break\n",
    "            else:\n",
    "                sent+=index2letter[char]\n",
    "        sentence_full.append(sent)\n",
    "    return sentence_full"
   ]
  },
  {
   "cell_type": "code",
   "execution_count": 67,
   "metadata": {},
   "outputs": [],
   "source": [
    "#For computing the distance\n",
    "def LevScore(preds, targets):\n",
    "    res = 0.0\n",
    "    for i in range(len(preds)):\n",
    "        dist = lev.distance(preds[i], targets[i])\n",
    "        res += dist\n",
    "        \n",
    "    return res#Average Levenstein Distance over the batch"
   ]
  },
  {
   "cell_type": "code",
   "execution_count": 68,
   "metadata": {},
   "outputs": [],
   "source": [
    "def train(model, train_loader, criterion, optimizer, epoch, teacherForcingRate):\n",
    "    model.train()\n",
    "    model.to(device)\n",
    "    \n",
    "    # 1) Iterate through your loader\n",
    "    train_loss=0\n",
    "    \n",
    "    \n",
    "    for batch_idx,(inp,inp_len,target,target_len) in enumerate(train_loader):\n",
    "        start = time.time()\n",
    "        \n",
    "        # 2) Use torch.autograd.set_detect_anomaly(True) to get notices about gradient explosion\n",
    "        \n",
    "        # 3) Set the inputs to the device.\n",
    "        inp,inp_len,target=inp.to(device),inp_len.to(device),target.to(device)\n",
    "        optimizer.zero_grad()\n",
    "        \n",
    "        # 4) Pass your inputs, and length of speech into the model.\n",
    "        output=model(epoch,batch_idx,teacherForcingRate,inp, inp_len, target,True)\n",
    "        \n",
    "        mask = torch.arange(max(target_len)).unsqueeze(0) >= target_len.int().unsqueeze(1)#Switching Masks\n",
    "        mask=mask.to(device)\n",
    "        #mask = generate_mask(target_len).to(device)\n",
    "\n",
    "        output.contiguous()\n",
    "        # 6) If necessary, reshape your predictions and origianl text input \n",
    "        # 6.1) Use .contiguous() if you need to. \n",
    "\n",
    "        # 7) Use the criterion to get the loss.\n",
    "        loss=criterion(output.view(-1,output.shape[2]),target.contiguous().view(-1))\n",
    "        \n",
    "        # 8) Use the mask to calculate a masked loss. \n",
    "        #masked_loss = torch.sum(loss * mask.view(-1)) / torch.sum(mask)\n",
    "        loss.masked_fill_(mask.contiguous().view(-1),0)\n",
    "        \n",
    "        loss=loss.mean()\n",
    "        \n",
    "        # 9) Run the backward pass on the masked loss. \n",
    "        loss.backward()\n",
    "        # 10) Use torch.nn.utils.clip_grad_norm(model.parameters(), 2)\n",
    "        torch.nn.utils.clip_grad_norm(model.parameters(), 2)\n",
    "\n",
    "        # 11) Take a step with your optimizer\n",
    "        optimizer.step()\n",
    "        # 12) Normalize the masked loss\n",
    "        train_loss+=loss.item()\n",
    "\n",
    "        # 13) Optionally print the training loss after every N batches\n",
    "        del inp\n",
    "        del inp_len\n",
    "        del target\n",
    "        del target_len\n",
    "        stop = time.time()\n",
    "        torch.cuda.empty_cache()\n",
    "        \n",
    "        if batch_idx % 10 == 0:\n",
    "            print('B: %d / %d, avg_loss: %.3f, Time Taken : %.3f, ' % (batch_idx+1, len(train_loader),train_loss/(batch_idx+1),stop-start),end='\\n ')\n",
    "    \n",
    "#         torch.save(model.state_dict(), \"./checkpoint_final/Model_attention_Final2_{}.pth\".format(epoch+1))\n",
    "\n",
    "def validation(model, valid_loader):\n",
    "    valid_loss=0\n",
    "    total_dist_score=0\n",
    "    model.eval()\n",
    "    seq_len=0\n",
    "    dist_score=0\n",
    "    seq_len=0\n",
    "    \n",
    "    for batch_idx,(inp,inp_len,target,target_len) in enumerate(valid_loader):\n",
    "        start = time.time()\n",
    "        inp,inp_len,target=inp.to(device),inp_len.to(device),target.to(device)\n",
    "        \n",
    "        output=model(epoch,batch_idx,None,inp, inp_len, None, False)\n",
    "        pred=predictions(output.argmax(-1).detach().cpu().numpy())#We get back batch of characters\n",
    "        target=predictions(target.detach().cpu().numpy())#We get back batch of characters\n",
    "        \n",
    "\n",
    "        dist_score+= LevScore(pred,target)\n",
    "        seq_len+=len(pred)#This is the batch size\n",
    "        \n",
    "        del inp\n",
    "        del inp_len\n",
    "#         del target\n",
    "        del target_len\n",
    "        stop = time.time()\n",
    "        torch.cuda.empty_cache()\n",
    "    print(\"prediciton :\",pred[0])\n",
    "    print(\"Target : \",target[0])\n",
    "    print('Distance Score: %.3f ' % (dist_score/seq_len),end='\\n ')\n",
    "    return dist_score/seq_len"
   ]
  },
  {
   "cell_type": "code",
   "execution_count": 69,
   "metadata": {},
   "outputs": [],
   "source": [
    "start_epoch=0"
   ]
  },
  {
   "cell_type": "code",
   "execution_count": 70,
   "metadata": {},
   "outputs": [],
   "source": [
    "# mn = torch.load(\"epoch33\")\n",
    "# model.load_state_dict(mn['model_state'])\n",
    "# optimizer.load_state_dict(mn['opti_state'])\n",
    "# model.to(device)"
   ]
  },
  {
   "cell_type": "code",
   "execution_count": 71,
   "metadata": {},
   "outputs": [
    {
     "name": "stdout",
     "output_type": "stream",
     "text": [
      "0.001\n"
     ]
    }
   ],
   "source": [
    "for param_group in optimizer.param_groups:\n",
    "        print(param_group['lr'])"
   ]
  },
  {
   "cell_type": "code",
   "execution_count": 72,
   "metadata": {},
   "outputs": [],
   "source": [
    "scheduler = optim.lr_scheduler.ReduceLROnPlateau(optimizer, factor=0.5, patience=2)"
   ]
  },
  {
   "cell_type": "code",
   "execution_count": null,
   "metadata": {
    "scrolled": true
   },
   "outputs": [
    {
     "name": "stdout",
     "output_type": "stream",
     "text": [
      "Teacher Forcing : 0.05\n",
      "epoch: 0\n",
      "0.001\n"
     ]
    },
    {
     "name": "stderr",
     "output_type": "stream",
     "text": [
      "/home/ubuntu/anaconda3/envs/pytorch_p36/lib/python3.6/site-packages/ipykernel_launcher.py:41: UserWarning: torch.nn.utils.clip_grad_norm is now deprecated in favor of torch.nn.utils.clip_grad_norm_.\n"
     ]
    },
    {
     "name": "stdout",
     "output_type": "stream",
     "text": [
      "B: 1 / 70, avg_loss: 0.535, Time Taken : 0.397, \n",
      " B: 11 / 70, avg_loss: 0.593, Time Taken : 0.309, \n",
      " B: 21 / 70, avg_loss: 0.582, Time Taken : 0.444, \n",
      " B: 31 / 70, avg_loss: 0.593, Time Taken : 0.350, \n",
      " B: 41 / 70, avg_loss: 0.587, Time Taken : 0.365, \n",
      " B: 51 / 70, avg_loss: 0.591, Time Taken : 0.346, \n",
      " B: 61 / 70, avg_loss: 0.591, Time Taken : 0.292, \n",
      " "
     ]
    },
    {
     "data": {
      "image/png": "[encoded data removed]",
      "text/plain": [
       "<Figure size 432x288 with 2 Axes>"
      ]
     },
     "metadata": {
      "needs_background": "light"
     },
     "output_type": "display_data"
    },
    {
     "name": "stdout",
     "output_type": "stream",
     "text": [
      "all_attentions shape : torch.Size([11, 67, 148])\n",
      "prediciton : I can't remember where we can here they to see years ago.\n",
      "Target :  -Yes! Hahahaha!\n",
      "Distance Score: 41.763 \n",
      " Teacher Forcing : 0.05\n",
      "epoch: 1\n",
      "0.001\n",
      "B: 1 / 70, avg_loss: 0.544, Time Taken : 0.414, \n",
      " B: 11 / 70, avg_loss: 0.528, Time Taken : 0.384, \n",
      " B: 21 / 70, avg_loss: 0.524, Time Taken : 0.397, \n",
      " B: 31 / 70, avg_loss: 0.532, Time Taken : 0.432, \n",
      " B: 41 / 70, avg_loss: 0.525, Time Taken : 0.366, \n",
      " B: 51 / 70, avg_loss: 0.532, Time Taken : 0.335, \n",
      " B: 61 / 70, avg_loss: 0.529, Time Taken : 0.319, \n",
      " "
     ]
    },
    {
     "data": {
      "image/png": "[encoded data removed]",
      "text/plain": [
       "<Figure size 432x288 with 2 Axes>"
      ]
     },
     "metadata": {
      "needs_background": "light"
     },
     "output_type": "display_data"
    },
    {
     "name": "stdout",
     "output_type": "stream",
     "text": [
      "all_attentions shape : torch.Size([11, 84, 98])\n",
      "prediciton : - What?! - Hey, Taki...\n",
      "Target :  -Yes! Hahahaha!\n",
      "Distance Score: 434.946 \n",
      " Teacher Forcing : 0.05\n",
      "epoch: 2\n",
      "0.001\n",
      "B: 1 / 70, avg_loss: 0.413, Time Taken : 0.371, \n",
      " B: 11 / 70, avg_loss: 0.482, Time Taken : 0.214, \n",
      " B: 21 / 70, avg_loss: 0.487, Time Taken : 0.397, \n",
      " B: 31 / 70, avg_loss: 0.488, Time Taken : 0.433, \n",
      " B: 41 / 70, avg_loss: 0.483, Time Taken : 0.417, \n",
      " B: 51 / 70, avg_loss: 0.486, Time Taken : 0.258, \n",
      " B: 61 / 70, avg_loss: 0.497, Time Taken : 0.407, \n",
      " "
     ]
    },
    {
     "data": {
      "image/png": "[encoded data removed]",
      "text/plain": [
       "<Figure size 432x288 with 2 Axes>"
      ]
     },
     "metadata": {
      "needs_background": "light"
     },
     "output_type": "display_data"
    },
    {
     "name": "stdout",
     "output_type": "stream",
     "text": [
      "all_attentions shape : torch.Size([11, 59, 111])\n",
      "prediciton : The comet.\n",
      "Target :  -Yes! Hahahaha!\n",
      "Distance Score: 43.676 \n",
      " Teacher Forcing : 0.05\n",
      "epoch: 3\n",
      "0.001\n",
      "B: 1 / 70, avg_loss: 0.427, Time Taken : 0.421, \n",
      " B: 11 / 70, avg_loss: 0.442, Time Taken : 0.405, \n",
      " B: 21 / 70, avg_loss: 0.462, Time Taken : 0.230, \n",
      " B: 31 / 70, avg_loss: 0.458, Time Taken : 0.345, \n",
      " B: 41 / 70, avg_loss: 0.464, Time Taken : 0.287, \n",
      " B: 51 / 70, avg_loss: 0.477, Time Taken : 0.378, \n",
      " B: 61 / 70, avg_loss: 0.474, Time Taken : 0.411, \n",
      " "
     ]
    },
    {
     "data": {
      "image/png": "[encoded data removed]",
      "text/plain": [
       "<Figure size 432x288 with 2 Axes>"
      ]
     },
     "metadata": {
      "needs_background": "light"
     },
     "output_type": "display_data"
    },
    {
     "name": "stdout",
     "output_type": "stream",
     "text": [
      "all_attentions shape : torch.Size([11, 119, 184])\n",
      "prediciton : I didn't want to me some with the same and the festival.\n",
      "Target :  -Yes! Hahahaha!\n",
      "Distance Score: 171.309 \n",
      " Teacher Forcing : 0.05\n",
      "epoch: 4\n",
      "0.001\n",
      "B: 1 / 70, avg_loss: 0.348, Time Taken : 0.425, \n",
      " B: 11 / 70, avg_loss: 0.393, Time Taken : 0.359, \n",
      " B: 21 / 70, avg_loss: 0.411, Time Taken : 0.325, \n",
      " B: 31 / 70, avg_loss: 0.414, Time Taken : 0.288, \n",
      " B: 41 / 70, avg_loss: 0.420, Time Taken : 0.290, \n",
      " B: 51 / 70, avg_loss: 0.425, Time Taken : 0.385, \n",
      " B: 61 / 70, avg_loss: 0.427, Time Taken : 0.435, \n",
      " "
     ]
    },
    {
     "data": {
      "image/png": "[encoded data removed]",
      "text/plain": [
       "<Figure size 432x288 with 2 Axes>"
      ]
     },
     "metadata": {
      "needs_background": "light"
     },
     "output_type": "display_data"
    },
    {
     "name": "stdout",
     "output_type": "stream",
     "text": [
      "all_attentions shape : torch.Size([11, 73, 152])\n",
      "prediciton : - Why got it. - Hey, I don't remember where the town!\n",
      "Target :  -Yes! Hahahaha!\n",
      "Distance Score: 128.953 \n",
      " Teacher Forcing : 0.05\n",
      "epoch: 5\n",
      "0.001\n",
      "B: 1 / 70, avg_loss: 0.330, Time Taken : 0.397, \n",
      " B: 11 / 70, avg_loss: 0.401, Time Taken : 0.319, \n",
      " B: 21 / 70, avg_loss: 0.391, Time Taken : 0.394, \n",
      " B: 31 / 70, avg_loss: 0.410, Time Taken : 0.328, \n",
      " B: 41 / 70, avg_loss: 0.410, Time Taken : 0.251, \n",
      " B: 51 / 70, avg_loss: 0.413, Time Taken : 0.303, \n",
      " B: 61 / 70, avg_loss: 0.415, Time Taken : 0.280, \n",
      " "
     ]
    },
    {
     "data": {
      "image/png": "[encoded data removed]",
      "text/plain": [
       "<Figure size 432x288 with 2 Axes>"
      ]
     },
     "metadata": {
      "needs_background": "light"
     },
     "output_type": "display_data"
    },
    {
     "name": "stdout",
     "output_type": "stream",
     "text": [
      "all_attentions shape : torch.Size([11, 57, 214])\n",
      "prediciton : The number you are trying to tell you.\n",
      "Target :  -Yes! Hahahaha!\n",
      "Distance Score: 47.802 \n",
      " Teacher Forcing : 0.05\n",
      "epoch: 6\n",
      "0.001\n",
      "B: 1 / 70, avg_loss: 0.330, Time Taken : 0.466, \n",
      " B: 11 / 70, avg_loss: 0.354, Time Taken : 0.319, \n",
      " B: 21 / 70, avg_loss: 0.349, Time Taken : 0.259, \n",
      " B: 31 / 70, avg_loss: 0.369, Time Taken : 0.344, \n",
      " B: 41 / 70, avg_loss: 0.374, Time Taken : 0.422, \n",
      " B: 51 / 70, avg_loss: 0.377, Time Taken : 0.304, \n",
      " B: 61 / 70, avg_loss: 0.384, Time Taken : 0.305, \n",
      " "
     ]
    },
    {
     "data": {
      "image/png": "[encoded data removed]",
      "text/plain": [
       "<Figure size 432x288 with 2 Axes>"
      ]
     },
     "metadata": {
      "needs_background": "light"
     },
     "output_type": "display_data"
    },
    {
     "name": "stdout",
     "output_type": "stream",
     "text": [
      "all_attentions shape : torch.Size([11, 46, 110])\n",
      "prediciton : What is it?!\n",
      "Target :  -Yes! Hahahaha!\n",
      "Distance Score: 59.799 \n",
      " Teacher Forcing : 0.05\n",
      "epoch: 7\n",
      "0.001\n",
      "B: 1 / 70, avg_loss: 0.334, Time Taken : 0.357, \n",
      " B: 11 / 70, avg_loss: 0.379, Time Taken : 0.355, \n",
      " B: 21 / 70, avg_loss: 0.348, Time Taken : 0.386, \n",
      " B: 31 / 70, avg_loss: 0.350, Time Taken : 0.433, \n",
      " B: 41 / 70, avg_loss: 0.350, Time Taken : 0.367, \n",
      " B: 51 / 70, avg_loss: 0.352, Time Taken : 0.305, \n",
      " B: 61 / 70, avg_loss: 0.360, Time Taken : 0.258, \n",
      " "
     ]
    },
    {
     "data": {
      "image/png": "[encoded data removed]",
      "text/plain": [
       "<Figure size 432x288 with 2 Axes>"
      ]
     },
     "metadata": {
      "needs_background": "light"
     },
     "output_type": "display_data"
    },
    {
     "name": "stdout",
     "output_type": "stream",
     "text": [
      "all_attentions shape : torch.Size([11, 65, 113])\n",
      "prediciton : I was kind-of it became a date.\n",
      "Target :  -Yes! Hahahaha!\n",
      "Distance Score: 38.317 \n",
      " Teacher Forcing : 0.05\n",
      "epoch: 8\n",
      "0.001\n",
      "B: 1 / 70, avg_loss: 0.245, Time Taken : 0.431, \n",
      " B: 11 / 70, avg_loss: 0.268, Time Taken : 0.377, \n",
      " B: 21 / 70, avg_loss: 0.277, Time Taken : 0.303, \n",
      " B: 31 / 70, avg_loss: 0.283, Time Taken : 0.365, \n",
      " B: 41 / 70, avg_loss: 0.289, Time Taken : 0.330, \n",
      " B: 51 / 70, avg_loss: 0.288, Time Taken : 0.305, \n",
      " B: 61 / 70, avg_loss: 0.294, Time Taken : 0.325, \n",
      " "
     ]
    },
    {
     "data": {
      "image/png": "[encoded data removed]",
      "text/plain": [
       "<Figure size 432x288 with 2 Axes>"
      ]
     },
     "metadata": {
      "needs_background": "light"
     },
     "output_type": "display_data"
    },
    {
     "name": "stdout",
     "output_type": "stream",
     "text": [
      "all_attentions shape : torch.Size([11, 90, 193])\n"
     ]
    }
   ],
   "source": [
    "teacherForcingRate=[0.05,0.10,0.15,0.20]#No batchnorm aand SELU activation function\n",
    "best_dis = 1000\n",
    "for epoch in range(start_epoch,start_epoch+10):#New architecture with Encoder hidden dim=256 and Decoder hidden_dim=512 increased and encoder output increased\n",
    "    \n",
    "    tf=teacherForcingRate[0]\n",
    "    if (epoch+1)>=15:\n",
    "        tf=teacherForcingRate[1]\n",
    "    if (epoch+1)>=30:\n",
    "        tf=teacherForcingRate[2]\n",
    "    if (epoch+1)>=42:\n",
    "        tf=teacherForcingRate[3]\n",
    "        \n",
    "    print(\"Teacher Forcing :\",tf)\n",
    "    print(\"epoch:\", epoch)\n",
    "    for param_group in optimizer.param_groups:\n",
    "        print(param_group['lr'])\n",
    "    \n",
    "    train(model, train_loader, criterion, optimizer, epoch,tf)\n",
    "    dis = validation(model, valid_loader)\n",
    "#     scheduler.step(dis)\n",
    "    torch.save({'model_state': model.state_dict(), 'opti_state': optimizer.state_dict(), 'val_dis': dis}, \"epoch\"+str(epoch))\n",
    "  "
   ]
  },
  {
   "cell_type": "code",
   "execution_count": 139,
   "metadata": {},
   "outputs": [
    {
     "data": {
      "text/plain": [
       "58"
      ]
     },
     "execution_count": 139,
     "metadata": {},
     "output_type": "execute_result"
    }
   ],
   "source": [
    "start_epoch=epoch\n",
    "start_epoch"
   ]
  },
  {
   "cell_type": "code",
   "execution_count": 31,
   "metadata": {},
   "outputs": [
    {
     "data": {
      "text/plain": [
       "Seq2Seq(\n",
       "  (encoder): Encoder(\n",
       "    (lstm): LSTM(40, 256, batch_first=True, bidirectional=True)\n",
       "    (pBLSTM1): pBLSTM(\n",
       "      (blstm): LSTM(1024, 256, batch_first=True, dropout=0.2, bidirectional=True)\n",
       "      (lockdrop): LockedDropout()\n",
       "    )\n",
       "    (pBLSTM2): pBLSTM(\n",
       "      (blstm): LSTM(1024, 256, batch_first=True, dropout=0.2, bidirectional=True)\n",
       "      (lockdrop): LockedDropout()\n",
       "    )\n",
       "    (pBLSTM3): pBLSTM(\n",
       "      (blstm): LSTM(1024, 256, batch_first=True, dropout=0.2, bidirectional=True)\n",
       "      (lockdrop): LockedDropout()\n",
       "    )\n",
       "    (key_network): Linear(in_features=512, out_features=256, bias=True)\n",
       "    (value_network): Linear(in_features=512, out_features=256, bias=True)\n",
       "    (lockdrop): LockedDropout()\n",
       "  )\n",
       "  (decoder): Decoder(\n",
       "    (embedding): Embedding(34, 512, padding_idx=33)\n",
       "    (lstm1): LSTMCell(768, 256)\n",
       "    (lstm2): LSTMCell(256, 256)\n",
       "    (attention): Attention()\n",
       "    (character_prob): Linear(in_features=512, out_features=34, bias=True)\n",
       "  )\n",
       ")"
      ]
     },
     "execution_count": 31,
     "metadata": {},
     "output_type": "execute_result"
    }
   ],
   "source": [
    "mn = torch.load(\"epoch33\")\n",
    "model.load_state_dict(mn['model_state'])\n",
    "model.to(device)"
   ]
  },
  {
   "cell_type": "code",
   "execution_count": 32,
   "metadata": {},
   "outputs": [],
   "source": [
    "test_dataset = Speech2TextDataset(speech_test, None, False)\n",
    "\n",
    "test_loader = DataLoader(test_dataset, batch_size=64, shuffle=False, collate_fn=collate_test)"
   ]
  },
  {
   "cell_type": "code",
   "execution_count": 34,
   "metadata": {},
   "outputs": [],
   "source": [
    "epoch = 33\n",
    "def test(model, test_loader):\n",
    "    ### Write your test code here! ###\n",
    "    total_dist_score=0\n",
    "    model.eval()\n",
    "    seq_len=0\n",
    "    final_prediction=[]\n",
    "    for batch_idx,(inp,inp_len) in enumerate(test_loader):\n",
    "        start = time.time()\n",
    "        inp,inp_len=inp.to(device),inp_len.to(device)\n",
    "        output=model(epoch,batch_idx,None,inp, inp_len, None, False)\n",
    "        \n",
    "        pred=predictions(output.argmax(-1).detach().cpu().numpy())#We get back batch of characters\n",
    "#         print(pred)\n",
    "        for i in pred:\n",
    "            final_prediction.append(i)\n",
    "                \n",
    "        del inp\n",
    "        del inp_len\n",
    "        stop = time.time()\n",
    "        torch.cuda.empty_cache()\n",
    "        print('B: %d / %d' % (batch_idx+1, len(test_loader)),end='\\n ')\n",
    "        \n",
    "    return final_prediction"
   ]
  },
  {
   "cell_type": "code",
   "execution_count": 35,
   "metadata": {
    "scrolled": true
   },
   "outputs": [
    {
     "name": "stderr",
     "output_type": "stream",
     "text": [
      "/home/ubuntu/anaconda3/envs/pytorch_p36/lib/python3.6/site-packages/ipykernel_launcher.py:25: UserWarning: To copy construct from a tensor, it is recommended to use sourceTensor.clone().detach() or sourceTensor.clone().detach().requires_grad_(True), rather than torch.tensor(sourceTensor).\n"
     ]
    },
    {
     "name": "stdout",
     "output_type": "stream",
     "text": [
      "B: 1 / 41\n",
      " B: 2 / 41\n",
      " B: 3 / 41\n",
      " B: 4 / 41\n",
      " B: 5 / 41\n",
      " B: 6 / 41\n",
      " B: 7 / 41\n",
      " B: 8 / 41\n",
      " B: 9 / 41\n",
      " B: 10 / 41\n",
      " B: 11 / 41\n",
      " B: 12 / 41\n",
      " B: 13 / 41\n",
      " B: 14 / 41\n",
      " B: 15 / 41\n",
      " B: 16 / 41\n",
      " B: 17 / 41\n",
      " B: 18 / 41\n",
      " B: 19 / 41\n",
      " B: 20 / 41\n",
      " B: 21 / 41\n",
      " B: 22 / 41\n",
      " B: 23 / 41\n",
      " B: 24 / 41\n",
      " B: 25 / 41\n",
      " B: 26 / 41\n",
      " B: 27 / 41\n",
      " B: 28 / 41\n",
      " B: 29 / 41\n",
      " B: 30 / 41\n",
      " B: 31 / 41\n",
      " B: 32 / 41\n",
      " B: 33 / 41\n",
      " B: 34 / 41\n",
      " B: 35 / 41\n",
      " B: 36 / 41\n",
      " B: 37 / 41\n",
      " B: 38 / 41\n",
      " B: 39 / 41\n",
      " B: 40 / 41\n",
      " B: 41 / 41\n",
      " "
     ]
    }
   ],
   "source": [
    "final_prediction=test(model, test_loader)"
   ]
  },
  {
   "cell_type": "code",
   "execution_count": 36,
   "metadata": {},
   "outputs": [
    {
     "data": {
      "text/plain": [
       "2620"
      ]
     },
     "execution_count": 36,
     "metadata": {},
     "output_type": "execute_result"
    }
   ],
   "source": [
    "len(final_prediction)"
   ]
  },
  {
   "cell_type": "code",
   "execution_count": 37,
   "metadata": {},
   "outputs": [],
   "source": [
    "import pandas as pd\n",
    "sample_csv=pd.read_csv('content/competitions/11785-spring2021-hw4p2/s21_sample.csv')\n",
    "\n",
    "#We read in the sample csv and replace its last column with the scores we have achieved\n",
    "n = sample_csv.columns[1]\n",
    "sample_csv[n] = final_prediction\n",
    "\n",
    "submission_csv=sample_csv\n",
    "\n",
    "submission_csv.to_csv('submission2.csv',index=False) "
   ]
  },
  {
   "cell_type": "code",
   "execution_count": null,
   "metadata": {},
   "outputs": [],
   "source": []
  }
 ],
 "metadata": {
  "kernelspec": {
   "display_name": "Python 3",
   "language": "python",
   "name": "python3"
  },
  "language_info": {
   "codemirror_mode": {
    "name": "ipython",
    "version": 3
   },
   "file_extension": ".py",
   "mimetype": "text/x-python",
   "name": "python",
   "nbconvert_exporter": "python",
   "pygments_lexer": "ipython3",
   "version": "3.6.13"
  }
 },
 "nbformat": 4,
 "nbformat_minor": 4
}
