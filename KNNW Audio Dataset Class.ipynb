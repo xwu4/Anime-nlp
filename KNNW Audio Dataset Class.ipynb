{
 "cells": [
  {
   "cell_type": "code",
   "execution_count": 1,
   "metadata": {},
   "outputs": [],
   "source": [
    "import pandas\n",
    "import numpy\n",
    "import torch"
   ]
  },
  {
   "cell_type": "code",
   "execution_count": 2,
   "metadata": {},
   "outputs": [
    {
     "name": "stdout",
     "output_type": "stream",
     "text": [
      "Subtitle Lookup Preview:\n"
     ]
    },
    {
     "data": {
      "text/html": [
       "<div>\n",
       "<style scoped>\n",
       "    .dataframe tbody tr th:only-of-type {\n",
       "        vertical-align: middle;\n",
       "    }\n",
       "\n",
       "    .dataframe tbody tr th {\n",
       "        vertical-align: top;\n",
       "    }\n",
       "\n",
       "    .dataframe thead th {\n",
       "        text-align: right;\n",
       "    }\n",
       "</style>\n",
       "<table border=\"1\" class=\"dataframe\">\n",
       "  <thead>\n",
       "    <tr style=\"text-align: right;\">\n",
       "      <th></th>\n",
       "      <th>Number</th>\n",
       "      <th>Start time in milliseconds</th>\n",
       "      <th>End time in milliseconds</th>\n",
       "      <th>Text</th>\n",
       "    </tr>\n",
       "  </thead>\n",
       "  <tbody>\n",
       "    <tr>\n",
       "      <th>0</th>\n",
       "      <td>1</td>\n",
       "      <td>1650</td>\n",
       "      <td>10800</td>\n",
       "      <td>TOHO CORPORATION</td>\n",
       "    </tr>\n",
       "    <tr>\n",
       "      <th>1</th>\n",
       "      <td>2</td>\n",
       "      <td>53940</td>\n",
       "      <td>58090</td>\n",
       "      <td>Some mornings, I wake up crying without knowin...</td>\n",
       "    </tr>\n",
       "    <tr>\n",
       "      <th>2</th>\n",
       "      <td>3</td>\n",
       "      <td>58700</td>\n",
       "      <td>61440</td>\n",
       "      <td>That's when everything happens now and again.</td>\n",
       "    </tr>\n",
       "    <tr>\n",
       "      <th>3</th>\n",
       "      <td>4</td>\n",
       "      <td>62060</td>\n",
       "      <td>66540</td>\n",
       "      <td>Whatever that dream was I had, I can never rem...</td>\n",
       "    </tr>\n",
       "    <tr>\n",
       "      <th>4</th>\n",
       "      <td>5</td>\n",
       "      <td>66540</td>\n",
       "      <td>69550</td>\n",
       "      <td>- But... - But...</td>\n",
       "    </tr>\n",
       "  </tbody>\n",
       "</table>\n",
       "</div>"
      ],
      "text/plain": [
       "   Number  Start time in milliseconds  End time in milliseconds  \\\n",
       "0       1                        1650                     10800   \n",
       "1       2                       53940                     58090   \n",
       "2       3                       58700                     61440   \n",
       "3       4                       62060                     66540   \n",
       "4       5                       66540                     69550   \n",
       "\n",
       "                                                Text  \n",
       "0                                   TOHO CORPORATION  \n",
       "1  Some mornings, I wake up crying without knowin...  \n",
       "2      That's when everything happens now and again.  \n",
       "3  Whatever that dream was I had, I can never rem...  \n",
       "4                                  - But... - But...  "
      ]
     },
     "execution_count": 2,
     "metadata": {},
     "output_type": "execute_result"
    }
   ],
   "source": [
    "print(\"Subtitle Lookup Preview:\")\n",
    "pandas.read_table(\"../../datasets/knnw/knnw_en_sub.csv\", sep = \";\", header=0).head()"
   ]
  },
  {
   "cell_type": "code",
   "execution_count": 3,
   "metadata": {},
   "outputs": [
    {
     "name": "stdout",
     "output_type": "stream",
     "text": [
      "Audio Shape:\n"
     ]
    },
    {
     "data": {
      "text/plain": [
       "(129, 1370582)"
      ]
     },
     "execution_count": 3,
     "metadata": {},
     "output_type": "execute_result"
    }
   ],
   "source": [
    "print(\"Audio Shape:\")\n",
    "numpy.load(\"../../datasets/knnw/knnw_en.spectrogram.npy\").shape"
   ]
  },
  {
   "cell_type": "code",
   "execution_count": 4,
   "metadata": {},
   "outputs": [],
   "source": [
    "class KnnwAudioDataset(torch.utils.data.Dataset):\n",
    "    \n",
    "    def __init__(self, \n",
    "                 audio_path=\"../../datasets/knnw/knnw_en.spectrogram.npy\",\n",
    "                 subtitle_lookup_path=\"../../datasets/knnw/knnw_en_sub.csv\",\n",
    "                 total_frames=1370582, \n",
    "                 total_duration=6396010):\n",
    "        \n",
    "        self.duration_per_frame = total_duration / total_frames\n",
    "        \n",
    "        self.audio = numpy.load(audio_path)\n",
    "        \n",
    "        self.subtitle_lookup = pandas.read_table(subtitle_lookup_path, \n",
    "                                                 sep = \";\", header=0)\n",
    "        \n",
    "        self.length = len(self.subtitle_lookup)\n",
    "        \n",
    "    def __len__(self):\n",
    "        \n",
    "        return self.length\n",
    "    \n",
    "    def __getitem__(self, i):\n",
    "        \n",
    "        start_time = self.subtitle_lookup.iloc[i, 1]\n",
    "        stop_time = self.subtitle_lookup.iloc[i, 2]\n",
    "        \n",
    "        audio_range = self.get_range(start_time, stop_time)\n",
    "        \n",
    "        audio_item = self.audio[:,audio_range]\n",
    "        \n",
    "        subtitle_item = self.subtitle_lookup.iloc[i, 3]\n",
    "        subtitle_item = self.get_tokenization(subtitle_item)\n",
    "        \n",
    "        return audio_item, subtitle_item\n",
    "        \n",
    "    def get_index(self, time, start_flag):\n",
    "        \n",
    "        if start_flag == True:\n",
    "            return numpy.floor(time/self.duration_per_frame)\n",
    "        \n",
    "        else:\n",
    "            return numpy.ceil(time/self.duration_per_frame)\n",
    "        \n",
    "    def get_range(self, start_time, end_time):\n",
    "        \n",
    "        start_index = self.get_index(start_time, start_flag=True)\n",
    "        stop_index  = self.get_index(end_time, start_flag=False)\n",
    "        \n",
    "        return range(int(start_index), int(stop_index))\n",
    "    \n",
    "    def get_tokenization(self, subtitle_item):\n",
    "        \n",
    "        return subtitle_item"
   ]
  },
  {
   "cell_type": "code",
   "execution_count": 5,
   "metadata": {},
   "outputs": [
    {
     "name": "stdout",
     "output_type": "stream",
     "text": [
      "4.666637968395908\n"
     ]
    }
   ],
   "source": [
    "dataset = KnnwAudioDataset()"
   ]
  },
  {
   "cell_type": "code",
   "execution_count": 6,
   "metadata": {},
   "outputs": [
    {
     "data": {
      "text/plain": [
       "(array([[6.7114437e-01, 1.3753934e-01, 4.5676559e-02, ..., 2.4686806e+00,\n",
       "         4.9535306e-03, 2.6628307e-01],\n",
       "        [2.5196629e+01, 3.8855080e+01, 2.2727580e+00, ..., 6.0028568e+01,\n",
       "         7.1121506e+01, 2.8637695e+01],\n",
       "        [1.7483507e+00, 4.5893925e+01, 4.5668683e+00, ..., 2.3218732e+00,\n",
       "         4.5152702e+00, 8.6796255e+00],\n",
       "        ...,\n",
       "        [2.8274903e-06, 2.8095658e-07, 1.3620793e-05, ..., 1.3395635e-06,\n",
       "         4.4126537e-06, 1.8380763e-06],\n",
       "        [2.0729281e-05, 5.7674066e-07, 8.5283239e-07, ..., 6.2710678e-06,\n",
       "         1.1276571e-07, 3.4037425e-06],\n",
       "        [1.1499887e-07, 2.5459119e-06, 1.0235656e-05, ..., 1.1129669e-06,\n",
       "         1.5908822e-07, 7.2525477e-06]], dtype=float32),\n",
       " 'TOHO CORPORATION')"
      ]
     },
     "execution_count": 6,
     "metadata": {},
     "output_type": "execute_result"
    }
   ],
   "source": [
    "next(iter(dataset))"
   ]
  },
  {
   "cell_type": "markdown",
   "metadata": {},
   "source": [
    "**Further Reading: How do I split a custom dataset into training and test datasets?**\n",
    "\n",
    "https://stackoverflow.com/questions/50544730/how-do-i-split-a-custom-dataset-into-training-and-test-datasets"
   ]
  },
  {
   "cell_type": "code",
   "execution_count": null,
   "metadata": {},
   "outputs": [],
   "source": []
  }
 ],
 "metadata": {
  "kernelspec": {
   "display_name": "PyTorch 3.6",
   "language": "python",
   "name": "pytorch_p36"
  },
  "language_info": {
   "codemirror_mode": {
    "name": "ipython",
    "version": 3
   },
   "file_extension": ".py",
   "mimetype": "text/x-python",
   "name": "python",
   "nbconvert_exporter": "python",
   "pygments_lexer": "ipython3",
   "version": "3.6.10"
  }
 },
 "nbformat": 4,
 "nbformat_minor": 4
}
