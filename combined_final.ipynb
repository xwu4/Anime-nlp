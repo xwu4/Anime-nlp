{
 "cells": [
  {
   "cell_type": "code",
   "execution_count": 1,
   "metadata": {},
   "outputs": [],
   "source": [
    "import torch\n",
    "import random\n",
    "import pandas as pd\n",
    "import torch.nn as nn\n",
    "import torch.optim as optim\n",
    "from torch.utils.data import DataLoader\n",
    "import numpy as np\n",
    "from torch.utils.data import Dataset \n",
    "import torch.nn.utils as utils\n",
    "import time\n",
    "from torch.nn.utils.rnn import pad_sequence, pack_padded_sequence, pad_packed_sequence\n",
    "import Levenshtein as lev\n",
    "import matplotlib.pyplot as plt\n",
    "from torch.utils.data.sampler import SubsetRandomSampler\n",
    "\n",
    "import seaborn as sns\n",
    "import random"
   ]
  },
  {
   "cell_type": "code",
   "execution_count": 127,
   "metadata": {},
   "outputs": [],
   "source": [
    "LETTER_LIST = ['<sos>', 'a', 'b', 'c', 'd', 'e', 'f', 'g', 'h', 'i', 'j', 'k', 'l', 'm', 'n', 'o', 'p', 'q', \\\n",
    "               'r', 's', 't', 'u', 'v', 'w', 'x', 'y', 'z', '-', \"'\", '.', '_', '+', ' ','<eos>']"
   ]
  },
  {
   "cell_type": "code",
   "execution_count": 128,
   "metadata": {},
   "outputs": [
    {
     "name": "stdout",
     "output_type": "stream",
     "text": [
      "34\n"
     ]
    }
   ],
   "source": [
    "print(len(LETTER_LIST))"
   ]
  },
  {
   "cell_type": "code",
   "execution_count": 4,
   "metadata": {},
   "outputs": [
    {
     "name": "stdout",
     "output_type": "stream",
     "text": [
      "Thu May  6 08:16:11 2021       \r\n",
      "+-----------------------------------------------------------------------------+\r\n",
      "| NVIDIA-SMI 450.80.02    Driver Version: 450.80.02    CUDA Version: 11.0     |\r\n",
      "|-------------------------------+----------------------+----------------------+\r\n",
      "| GPU  Name        Persistence-M| Bus-Id        Disp.A | Volatile Uncorr. ECC |\r\n",
      "| Fan  Temp  Perf  Pwr:Usage/Cap|         Memory-Usage | GPU-Util  Compute M. |\r\n",
      "|                               |                      |               MIG M. |\r\n",
      "|===============================+======================+======================|\r\n",
      "|   0  Tesla T4            On   | 00000000:00:1E.0 Off |                    0 |\r\n",
      "| N/A   30C    P8     9W /  70W |      0MiB / 15109MiB |      0%      Default |\r\n",
      "|                               |                      |                  N/A |\r\n",
      "+-------------------------------+----------------------+----------------------+\r\n",
      "                                                                               \r\n",
      "+-----------------------------------------------------------------------------+\r\n",
      "| Processes:                                                                  |\r\n",
      "|  GPU   GI   CI        PID   Type   Process name                  GPU Memory |\r\n",
      "|        ID   ID                                                   Usage      |\r\n",
      "|=============================================================================|\r\n",
      "|  No running processes found                                                 |\r\n",
      "+-----------------------------------------------------------------------------+\r\n"
     ]
    }
   ],
   "source": [
    "!nvidia-smi"
   ]
  },
  {
   "cell_type": "code",
   "execution_count": 5,
   "metadata": {},
   "outputs": [],
   "source": [
    "def create_dictionaries(letter_list):\n",
    "    letter2index = {}\n",
    "    index2letter = {}\n",
    "    for i in range(0,len(letter_list)):\n",
    "        letter2index[letter_list[i]]=i\n",
    "        index2letter[i]=letter_list[i]\n",
    "    \n",
    "    return letter2index, index2letter\n",
    "\n",
    "letter2index, index2letter = create_dictionaries(LETTER_LIST)"
   ]
  },
  {
   "cell_type": "code",
   "execution_count": 6,
   "metadata": {},
   "outputs": [
    {
     "name": "stdout",
     "output_type": "stream",
     "text": [
      "   Number  Start time in milliseconds  End time in milliseconds  \\\n",
      "0       1                        1650                     10800   \n",
      "1       2                       53940                     58090   \n",
      "2       3                       58700                     61440   \n",
      "3       4                       62060                     66540   \n",
      "4       5                       66540                     69550   \n",
      "\n",
      "                                                Text  \\\n",
      "0                                   TOHO CORPORATION   \n",
      "1  Some mornings, I wake up crying without knowin...   \n",
      "2      That's when everything happens now and again.   \n",
      "3  Whatever that dream was I had, I can never rem...   \n",
      "4                                  - But... - But...   \n",
      "\n",
      "                                            idx_text  \n",
      "0  [20, 15, 8, 15, 41, 3, 15, 18, 16, 15, 18, 1, ...  \n",
      "1  [19, 15, 13, 5, 41, 13, 15, 18, 14, 9, 14, 7, ...  \n",
      "2  [20, 8, 1, 20, 19, 41, 23, 8, 5, 14, 41, 5, 22...  \n",
      "3  [23, 8, 1, 20, 5, 22, 5, 18, 41, 20, 8, 1, 20,...  \n",
      "4  [41, 2, 21, 20, 37, 37, 37, 41, 41, 2, 21, 20,...  \n"
     ]
    }
   ],
   "source": [
    "df = pd.read_table(\"knnw_en_sub.csv\", sep = \";\", header=0)\n",
    "idx_text = []\n",
    "for i in range(df.shape[0]):\n",
    "    text = df.iloc[i][3].lower()\n",
    "    split_text = text.split()\n",
    "    \n",
    "    l = []\n",
    "    for word in split_text:\n",
    "        if word[0] == \"[\" or word[-1] == \":\": #remove speaker name and noise\n",
    "            continue\n",
    "        for c in word:\n",
    "            if c == 'é':\n",
    "                c = 'e'\n",
    "            if c == \"“\" or c == \"”\":\n",
    "                c = '\"'\n",
    "            if c in letter2index:\n",
    "                l.append(letter2index[c])\n",
    "        l.append(letter2index[' '])#Space between the words use letter2index\n",
    "    l=l[:-1]\n",
    "    l.append(letter2index['<eos>'])#End of the sentence\n",
    "    idx_text.append(l)\n",
    "df['idx_text'] = idx_text\n",
    "print(df.head())\n",
    "    "
   ]
  },
  {
   "cell_type": "code",
   "execution_count": 7,
   "metadata": {},
   "outputs": [
    {
     "name": "stdout",
     "output_type": "stream",
     "text": [
      "52\n",
      "{'Mitsuha': 0, 'Taki': 1, 'Band': 2, 'Yotsuha': 3, 'Grandma': 4, 'Yatsuha': 5, 'Radio': 6, 'None': 7, 'TV': 8, 'Saya': 9, 'Teshi': 10, 'Toshiki': 11, 'BystanderA': 12, 'BystanderB': 13, 'StudentA': 14, 'BystanderC': 15, 'BystanderD': 16, 'StudentB': 17, 'StudentC': 18, 'Sara': 19, 'Teacher': 20, 'StudentD': 21, 'Class': 22, 'Foreman': 23, 'BackCharA': 24, 'BackCharB': 25, 'TeshiMom': 26, 'BystanderE': 27, 'BystanderF': 28, 'TakiDad': 29, 'Crowd': 30, 'Tsukasa': 31, 'Shinta': 32, 'Kitchen': 33, 'Customers': 34, 'Okudera': 35, 'Staff': 36, 'Phone': 37, 'Takagi': 38, 'Waitress': 39, 'Chef': 40, 'Futaba': 41, 'MitsuhaMom': 42, 'Gradnma': 43, 'Shopkeeper': 44, 'Mistuha': 45, 'Kids': 46, 'Conductor': 47, 'TownHall': 48, 'Firefighters': 49, 'TeshiDad': 50, 'TrainAnnouncer': 51}\n",
      "1393\n",
      "(1393, 52)\n"
     ]
    }
   ],
   "source": [
    "file = open(\"speakers.srt\", \"r\")\n",
    "lines = file.readlines()\n",
    "file.close()\n",
    "count = 2\n",
    "speakers = []\n",
    "\n",
    "for line in lines:\n",
    "    if line.startswith(str(count)):\n",
    "        count = count + 1\n",
    "        speakers.append(line)\n",
    "\n",
    "name_list = []\n",
    "for i in range(2, len(speakers)+2):\n",
    "    new_str = speakers[i-2].replace(str(i), '')\n",
    "    new_str = new_str.replace('\\n', '')\n",
    "    new_str = new_str.replace(' ', '')\n",
    "    new_str = new_str.replace(',', '')\n",
    "    speakers[i-2] = new_str\n",
    "    if '+' in new_str:\n",
    "        new_str = new_str.split('+')\n",
    "        for name in new_str:\n",
    "            if name not in name_list:\n",
    "                name_list.append(name)\n",
    "    else:\n",
    "        if new_str not in name_list:\n",
    "            name_list.append(new_str)\n",
    "print(len(name_list))\n",
    "name_dict = {}\n",
    "for i in range(len(name_list)):\n",
    "    name_dict[name_list[i]] = i\n",
    "print(name_dict)\n",
    "\n",
    "speakers = ['None'] + speakers\n",
    "print(len(speakers))\n",
    "\n",
    "speaker_label = []\n",
    "for i in range(len(speakers)):\n",
    "    l = np.zeros(52)\n",
    "    if '+' in speakers[i]:\n",
    "        new_str = speakers[i].split('+')\n",
    "        for n in new_str:\n",
    "            l[name_dict[n]] = 1\n",
    "    else:\n",
    "        if speakers[i] != 'None':\n",
    "            l[name_dict[speakers[i]]] = 1\n",
    "    \n",
    "    speaker_label.append(l)\n",
    "speaker_label = np.array(speaker_label)\n",
    "print(speaker_label.shape)"
   ]
  },
  {
   "cell_type": "code",
   "execution_count": 8,
   "metadata": {},
   "outputs": [
    {
     "name": "stdout",
     "output_type": "stream",
     "text": [
      "(129, 629570)\n",
      "1393\n",
      "1393\n"
     ]
    }
   ],
   "source": [
    "total_frames = 629570\n",
    "# total_frames = 199864\n",
    "total_duration=6396010\n",
    "duration_per_frame = total_duration / total_frames\n",
    "audio = np.load(\"log_spectrogram.npy\")\n",
    "# audio = np.load(\"knnw16000.npy\")\n",
    "print(audio.shape)\n",
    "\n",
    "def get_index(time, start_flag):\n",
    "    if start_flag == True:\n",
    "        return np.floor(time/duration_per_frame)\n",
    "        \n",
    "    else:\n",
    "        return np.ceil(time/duration_per_frame)\n",
    "        \n",
    "def get_range(start_time, end_time):\n",
    "        \n",
    "    start_index = get_index(start_time, start_flag=True)\n",
    "    stop_index  = get_index(end_time, start_flag=False)\n",
    "        \n",
    "    return range(int(start_index), int(stop_index))\n",
    "\n",
    "temp = []\n",
    "for i in range(df.shape[0]):\n",
    "    \n",
    "    start_time = df.iloc[i][1]\n",
    "    stop_time = df.iloc[i][2]\n",
    "    \n",
    "    audio_range = get_range(start_time, stop_time)\n",
    "    audio_item = torch.as_tensor(audio[:,audio_range]).float().permute(1,0)\n",
    "    temp.append([audio_item, df.iloc[i][4]])\n",
    "print(len(temp))\n",
    "\n",
    "temp_speaker = []\n",
    "for i in range(df.shape[0]):\n",
    "    \n",
    "    start_time = df.iloc[i][1]\n",
    "    stop_time = df.iloc[i][2]\n",
    "    \n",
    "    audio_range = get_range(start_time, stop_time)\n",
    "    audio_item = torch.as_tensor(audio[:,audio_range]).float().permute(1,0)\n",
    "    temp_speaker.append([audio_item, speaker_label[i]])\n",
    "print(len(temp_speaker))\n",
    "    "
   ]
  },
  {
   "cell_type": "code",
   "execution_count": 41,
   "metadata": {},
   "outputs": [
    {
     "name": "stdout",
     "output_type": "stream",
     "text": [
      "1393\n",
      "1393\n",
      "1393\n",
      "1393\n",
      "1393\n",
      "1393\n"
     ]
    }
   ],
   "source": [
    "random.shuffle(temp)\n",
    "print(len(temp))\n",
    "audio_array = []\n",
    "idx_text = []\n",
    "for i in range(len(temp)):\n",
    "    audio_array.append(temp[i][0])\n",
    "    idx_text.append(temp[i][1])\n",
    "print(len(audio_array))\n",
    "print(len(idx_text))\n",
    "\n",
    "random.shuffle(temp_speaker)\n",
    "print(len(temp_speaker))\n",
    "audio_speaker = []\n",
    "speaker_label = []\n",
    "for i in range(len(temp_speaker)):\n",
    "    audio_speaker.append(temp_speaker[i][0])\n",
    "    speaker_label.append(temp_speaker[i][1])\n",
    "print(len(audio_speaker))\n",
    "print(len(speaker_label))\n",
    "speaker_label = np.array(speaker_label)"
   ]
  },
  {
   "cell_type": "code",
   "execution_count": 64,
   "metadata": {},
   "outputs": [],
   "source": [
    "class Speech2TextDataset(Dataset):\n",
    "    '''\n",
    "    Dataset class for the speech to text data, this may need some tweaking in the\n",
    "    getitem method as your implementation in the collate function may be different from\n",
    "    ours. \n",
    "    '''\n",
    "    def __init__(self, speech, text=None, speaker=None, isTrain=True):\n",
    "        self.speech = speech\n",
    "        self.speaker = speaker\n",
    "        self.isTrain = isTrain\n",
    "        if (text is not None):\n",
    "            self.text = text\n",
    "\n",
    "    def __len__(self):\n",
    "        return len(self.speech)\n",
    "\n",
    "    def __getitem__(self, index):\n",
    "        if (self.isTrain == True):\n",
    "            return self.speech[index], torch.tensor(self.text[index]), torch.tensor(self.speaker[index].astype(np.long))\n",
    "        else:\n",
    "            return self.speech[index]\n",
    "\n",
    "def collate_train(batch_data):\n",
    "    #This batch will contain the speech,speech len and the text,text len\n",
    "    ### Return the padded speech and text data, and the length of utterance and transcript ###\n",
    "    X = []\n",
    "    Xlen = []\n",
    "    Y = []\n",
    "    Ylen = []\n",
    "    Z = []\n",
    "    Zlen = []\n",
    "    #print(\"Length of batch data :\",len(batch_data))\n",
    "    for i in range(len(batch_data)):\n",
    "        X.append(batch_data[i][0])\n",
    "        Xlen.append(len(batch_data[i][0]))\n",
    "        Y.append(batch_data[i][1])\n",
    "        Ylen.append(len(batch_data[i][1]))\n",
    "        Z.append(batch_data[i][2])\n",
    "        Zlen.append(len(batch_data[i][2]))\n",
    "        \n",
    "    Xpad=pad_sequence(X, batch_first=True)#(B, T, C) \n",
    "    Ypad=pad_sequence(Y, batch_first=True)#(B, T, C) \n",
    "    Zpad=pad_sequence(Z, batch_first=True)\n",
    "    \n",
    "    return Xpad,torch.tensor(Xlen),Ypad,torch.tensor(Ylen), Zpad,torch.tensor(Zlen)"
   ]
  },
  {
   "cell_type": "code",
   "execution_count": 65,
   "metadata": {},
   "outputs": [],
   "source": [
    "batch_size = 128\n",
    "validation_split = .2\n",
    "shuffle_dataset = True\n",
    "random_seed= 11785"
   ]
  },
  {
   "cell_type": "code",
   "execution_count": 66,
   "metadata": {},
   "outputs": [
    {
     "name": "stdout",
     "output_type": "stream",
     "text": [
      "1115\n",
      "278\n"
     ]
    }
   ],
   "source": [
    "split = int(validation_split * len(audio_array))\n",
    "train_dataset = Speech2TextDataset(audio_array[split:], idx_text[split:], speaker_label[split:])\n",
    "valid_dataset = Speech2TextDataset(audio_array[:split], idx_text[:split], speaker_label[:split])\n",
    "print(len(train_dataset))\n",
    "print(len(valid_dataset))"
   ]
  },
  {
   "cell_type": "code",
   "execution_count": 67,
   "metadata": {},
   "outputs": [
    {
     "name": "stderr",
     "output_type": "stream",
     "text": [
      "/home/ubuntu/anaconda3/envs/pytorch_p36/lib/python3.6/site-packages/torch/utils/data/dataloader.py:477: UserWarning: This DataLoader will create 8 worker processes in total. Our suggested max number of worker in current system is 4, which is smaller than what this DataLoader is going to create. Please be aware that excessive worker creation might get DataLoader running slow or even freeze, lower the worker number to avoid potential slowness/freeze if necessary.\n",
      "  cpuset_checked))\n"
     ]
    }
   ],
   "source": [
    "train_loader = torch.utils.data.DataLoader(train_dataset, batch_size=batch_size, shuffle=True, collate_fn=collate_train,num_workers=8,pin_memory=True)\n",
    "valid_loader = torch.utils.data.DataLoader(valid_dataset, batch_size=batch_size, shuffle=False, collate_fn=collate_train,num_workers=8,pin_memory=True)\n"
   ]
  },
  {
   "cell_type": "code",
   "execution_count": 68,
   "metadata": {},
   "outputs": [
    {
     "data": {
      "text/plain": [
       "9"
      ]
     },
     "execution_count": 68,
     "metadata": {},
     "output_type": "execute_result"
    }
   ],
   "source": [
    "len(train_loader)"
   ]
  },
  {
   "cell_type": "code",
   "execution_count": 69,
   "metadata": {},
   "outputs": [
    {
     "data": {
      "text/plain": [
       "3"
      ]
     },
     "execution_count": 69,
     "metadata": {},
     "output_type": "execute_result"
    }
   ],
   "source": [
    "len(valid_loader)"
   ]
  },
  {
   "cell_type": "code",
   "execution_count": 70,
   "metadata": {},
   "outputs": [],
   "source": [
    "from torch.autograd import Variable\n",
    "class LockedDropout(nn.Module):\n",
    "    def __init__(self):\n",
    "        super().__init__()\n",
    "\n",
    "    def forward(self, x, dropout=0.2):\n",
    "        # x': (B, L, C)\n",
    "#         if dropout == 0 or not self.training:\n",
    "#             return x\n",
    "        mask = x.data.new(x.size(0), 1, x.size(2))\n",
    "        mask = mask.bernoulli_(1 - dropout)\n",
    "        mask = Variable(mask, requires_grad=False) / (1 - dropout)\n",
    "        mask = mask.expand_as(x)\n",
    "        \n",
    "        return mask * x"
   ]
  },
  {
   "cell_type": "code",
   "execution_count": 71,
   "metadata": {},
   "outputs": [],
   "source": [
    "class Attention(nn.Module):\n",
    "    '''\n",
    "    Attention is calculated using key, value and query from Encoder and decoder.\n",
    "    Below are the set of operations you need to perform for computing attention:\n",
    "        energy = bmm(key, query)\n",
    "        attention = softmax(energy)\n",
    "        context = bmm(attention, value)\n",
    "    '''\n",
    "    def __init__(self):\n",
    "        super(Attention, self).__init__()\n",
    "\n",
    "    def forward(self, query, key, value, lens):\n",
    "        '''\n",
    "        :param query :(batch_size, hidden_size) Query is the output of LSTMCell from Decoder\n",
    "        :param keys: (batch_size, max_len, encoder_size) Key Projection from Encoder\n",
    "        :param values: (batch_size, max_len, encoder_size) Value Projection from Encoder\n",
    "        :return context: (batch_size, encoder_size) Attended Context\n",
    "        :return attention_mask: (batch_size, max_len) Attention mask that can be plotted \n",
    "        \n",
    "        '''\n",
    "        attention = torch.bmm(key, query.unsqueeze(2)).squeeze(2)\n",
    "\n",
    "        mask = torch.arange(key.size(1)).unsqueeze(0) >= lens.unsqueeze(1)\n",
    "        mask=mask.to(device)\n",
    "        attention.masked_fill_(mask, -1e9)\n",
    "        attention = nn.functional.softmax(attention, dim=1)\n",
    "        context = torch.bmm(attention.unsqueeze(1), value).squeeze(1)\n",
    "\n",
    "        return context, attention\n",
    "        \n"
   ]
  },
  {
   "cell_type": "code",
   "execution_count": 72,
   "metadata": {},
   "outputs": [],
   "source": [
    "class pBLSTM(nn.Module):\n",
    "    '''\n",
    "    Pyramidal BiLSTM\n",
    "    The length of utterance (speech input) can be hundereds to thousands of frames long.\n",
    "    The Paper reports that a direct LSTM implementation as Encoder resulted in slow convergence,\n",
    "    and inferior results even after extensive training.\n",
    "    The major reason is inability of AttendAndSpell operation to extract relevant information\n",
    "    from a large number of input steps.\n",
    "    '''\n",
    "    def __init__(self, input_dim, hidden_dim, dropout_rate=0.1):\n",
    "        super(pBLSTM, self).__init__()\n",
    "        self.blstm = nn.LSTM(input_size=input_dim, hidden_size=hidden_dim, num_layers=2,dropout=dropout_rate, bidirectional=True,batch_first=True)\n",
    "        self.lockdrop = LockedDropout()\n",
    "        self.dropout=dropout_rate\n",
    "\n",
    "    def forward(self, x):\n",
    "        '''\n",
    "        :param x :(N, T) input to the pBLSTM\n",
    "        :return output: (N, T, H) encoded sequence from pyramidal Bi-LSTM \n",
    "        '''\n",
    "        #First we unpack the sequence\n",
    "        x_pad,x_len=utils.rnn.pad_packed_sequence(x,batch_first=True)\n",
    "\n",
    "        x_pad = self.lockdrop(x_pad, self.dropout)\n",
    "        x_pad=x_pad[:,:(x_pad.shape[1]//2)*2,:]\n",
    "        \n",
    "        x_pad = x_pad.contiguous().view(x_pad.shape[0],int(x_pad.shape[1]//2),x_pad.shape[2]*2)        \n",
    "\n",
    "        #print(\"Shape of output after x_pad :\",x_pad.shape)\n",
    "        x_len=x_len//2\n",
    "\n",
    "        #Now we pack this back to send it off to the LSTM\n",
    "        x_pack = utils.rnn.pack_padded_sequence(x_pad, lengths=x_len, batch_first=True, enforce_sorted=False)\n",
    "\n",
    "        output, _ = self.blstm(x_pack)\n",
    "        \n",
    "        return output"
   ]
  },
  {
   "cell_type": "code",
   "execution_count": 73,
   "metadata": {},
   "outputs": [],
   "source": [
    "class Encoder(nn.Module):\n",
    "    '''\n",
    "    Encoder takes the utterances as inputs and returns the key and value.\n",
    "    Key and value are nothing but simple projections of the output from pBLSTM network.\n",
    "    '''\n",
    "    def __init__(self, input_dim, hidden_dim, value_size=256,key_size=256,dropout_rate=0.0,dropouti=0):\n",
    "        super(Encoder, self).__init__()\n",
    "        self.lstm = nn.LSTM(input_size=input_dim, hidden_size=256, num_layers=5, dropout=0.5, bidirectional=True,batch_first=True)\n",
    "\n",
    "        self.pBLSTM1=pBLSTM(hidden_dim*4, hidden_dim,dropout_rate=dropout_rate)\n",
    "        self.pBLSTM2=pBLSTM(hidden_dim*4, hidden_dim,dropout_rate=dropout_rate)\n",
    "        self.pBLSTM3=pBLSTM(hidden_dim*4, hidden_dim,dropout_rate=dropout_rate)\n",
    "        \n",
    "        self.key_network = nn.Linear(hidden_dim*2, value_size)\n",
    "        self.value_network = nn.Linear(hidden_dim*2, key_size)\n",
    "        \n",
    "        self.dropout=dropouti\n",
    "        self.lockdrop = LockedDropout()\n",
    "\n",
    "\n",
    "    def forward(self, x, lens):\n",
    "        rnn_inp = utils.rnn.pack_padded_sequence(x, lengths=lens, batch_first=True, enforce_sorted=False)\n",
    "        dia_input, _ = self.lstm(rnn_inp)\n",
    "        \n",
    "        outputs=self.pBLSTM1(dia_input)\n",
    "        outputs=self.pBLSTM2(outputs)\n",
    "        outputs=self.pBLSTM3(outputs)\n",
    "        \n",
    "        linear_input,encoder_lens = utils.rnn.pad_packed_sequence(outputs,batch_first=True)\n",
    "        \n",
    "        linear_input = self.lockdrop(linear_input, self.dropout)\n",
    "        keys = self.key_network(linear_input)\n",
    "        value = self.value_network(linear_input)\n",
    "\n",
    "        return keys, value,encoder_lens, dia_input\n"
   ]
  },
  {
   "cell_type": "code",
   "execution_count": 74,
   "metadata": {},
   "outputs": [],
   "source": [
    "class Decoder(nn.Module):\n",
    "    '''\n",
    "    As mentioned in a previous recitation, each forward call of decoder deals with just one time step, \n",
    "    thus we use LSTMCell instead of LSLTM here.\n",
    "    The output from the second LSTMCell can be used as query here for attention module.\n",
    "    In place of value that we get from the attention, this can be replace by context we get from the attention.\n",
    "    Methods like Gumble noise and teacher forcing can also be incorporated for improving the performance.\n",
    "    '''\n",
    "    def __init__(self, vocab_size, hidden_dim, value_size=256, key_size=256):\n",
    "        super(Decoder, self).__init__()\n",
    "        hidden_dim=key_size + value_size\n",
    "        self.embedding = nn.Embedding(vocab_size, hidden_dim, padding_idx=letter2index['<eos>'])\n",
    "        self.lstm1 = nn.LSTMCell(input_size=768, hidden_size=256)\n",
    "        self.lstm2 = nn.LSTMCell(input_size=256, hidden_size=key_size)\n",
    "        \n",
    "        self.attention = Attention()\n",
    "\n",
    "        self.character_prob = nn.Linear(key_size + value_size, vocab_size)\n",
    "        self.value_size=value_size \n",
    "        self.embedding.weight=self.character_prob.weight\n",
    "        \n",
    "        self.init_weights()\n",
    "        \n",
    "    def init_weights(self):\n",
    "        initrange = 0.1\n",
    "        self.embedding.weight.data.uniform_(-initrange, initrange)\n",
    "        self.character_prob.bias.data.zero_()\n",
    "        self.character_prob.weight.data.uniform_(-initrange, initrange)\n",
    "\n",
    "\n",
    "    def forward(self, epoch,batch_idx,encoder_lens,teacherForcingRate,key, values, text=None, isTrain=True):\n",
    "        '''\n",
    "        :param key :( N,T, key_size) Output of the Encoder Key projection layer\n",
    "        :param values: (N, T,value_size) Output of the Encoder Value projection layer\n",
    "        :param text: (N, text_len) Batch input of text with text_length\n",
    "        :param isTrain: Train or eval mode\n",
    "        :return predictions: Returns the character perdiction probability \n",
    "        '''\n",
    "        batch_size = key.shape[0]\n",
    "\n",
    "        if (isTrain == True):\n",
    "            max_len =  text.shape[1]\n",
    "            embeddings = self.embedding(text)\n",
    "        else:\n",
    "            max_len = 600\n",
    "            \n",
    "        total_attention=[]\n",
    "        predictions = []\n",
    "        hidden_states = [None, None]\n",
    "        prediction = torch.zeros(batch_size,1).to(device)\n",
    "        context = values[:, 0, :].reshape(values.size(0),values.size(2))\n",
    "        teacherForcingRate=teacherForcingRate \n",
    "        \n",
    "        for i in range(max_len):\n",
    "            \n",
    "            if (isTrain):\n",
    "                #Teacher forcing\n",
    "                tf = np.random.random()\n",
    "                if tf > teacherForcingRate :\n",
    "                    if i==0:\n",
    "                        char_embed=self.embedding(torch.zeros(batch_size,dtype=torch.long).fill_(letter2index['<sos>']).to(device))\n",
    "                    else:\n",
    "                        char_embed = embeddings[:,i-1,:].to(device)#Dimension is of B,1,hidden_dim\n",
    "                else:\n",
    "                    char_embed = self.embedding(prediction.argmax(dim=-1)).to(device)\n",
    "                    \n",
    "            else:\n",
    "                if i==0:\n",
    "                    char_embed=self.embedding(torch.zeros(batch_size,dtype=torch.long).fill_(letter2index['<sos>']).to(device))\n",
    "                else:\n",
    "                    char_embed = self.embedding(prediction.argmax(dim=-1)).to(device)\n",
    "\n",
    "                \n",
    "            inp = torch.cat([char_embed, context], dim=1)#Char Embed dim:B,H_ and Context:B,hidden_dim\n",
    "            hidden_states[0] = self.lstm1(inp, hidden_states[0])\n",
    "\n",
    "            inp_2 = hidden_states[0][0]\n",
    "            hidden_states[1] = self.lstm2(inp_2, hidden_states[1])\n",
    "\n",
    "            ### Compute attention from the output of the second LSTM Cell ###\n",
    "            output = hidden_states[1][0]\n",
    "                        \n",
    "            context,masked_attention=self.attention(output,key,values, encoder_lens)\n",
    "            total_attention.append(masked_attention.detach().cpu())\n",
    "\n",
    "            prediction = self.character_prob(torch.cat([output, context], dim=1))\n",
    "                                                                                 \n",
    "            predictions.append(prediction.unsqueeze(1))\n",
    "            \n",
    "        if batch_idx+1==9:\n",
    "            \n",
    "            all_attentions = torch.stack(total_attention, dim=1)\n",
    "            \n",
    "            plt.clf()\n",
    "            \n",
    "            sns.heatmap(all_attentions[0,:,:], cmap='GnBu')\n",
    "            plt.show()\n",
    "            print(\"all_attentions shape :\",all_attentions.shape)\n",
    "            \n",
    "\n",
    "        return torch.cat(predictions, dim=1)#B,T,V"
   ]
  },
  {
   "cell_type": "code",
   "execution_count": 92,
   "metadata": {},
   "outputs": [],
   "source": [
    "class Seq2Seq(nn.Module):\n",
    "    '''\n",
    "    We train an end-to-end sequence to sequence model comprising of Encoder and Decoder.\n",
    "    This is simply a wrapper \"model\" for your encoder and decoder.\n",
    "    '''\n",
    "    def __init__(self, input_dim, vocab_size, hidden_dim, value_size=128, key_size=128, isAttended=True):\n",
    "        super(Seq2Seq, self).__init__()\n",
    "        self.dropout_rate=0.1\n",
    "        self.dropouti=0.1\n",
    "        self.encoder = Encoder(input_dim,256,256,256,self.dropout_rate,self.dropouti)\n",
    "        self.decoder = Decoder(vocab_size, hidden_dim,256,256)\n",
    "        self.fc1 = nn.Linear(512, 52)\n",
    "        initrange = 0.1\n",
    "        self.fc1.bias.data.zero_()\n",
    "        self.fc1.weight.data.uniform_(-initrange, initrange)\n",
    "\n",
    "    def forward(self, epoch,batch_idx,teacherForcingRate,speech_input, speech_len, text_input=None, isTrain=True):\n",
    "        key, value, encoder_lens, dia_input = self.encoder(speech_input, speech_len)\n",
    "        dia_input,_ = utils.rnn.pad_packed_sequence(dia_input,batch_first=True)\n",
    "        dia_output = self.fc1(dia_input)\n",
    "        if (isTrain == True):\n",
    "            predictions = self.decoder(epoch,batch_idx,encoder_lens,teacherForcingRate,key, value, text_input,isTrain=True)\n",
    "        else:\n",
    "            predictions = self.decoder(epoch,batch_idx,encoder_lens,None,key, value, text=None, isTrain=False)\n",
    "        return predictions, dia_output"
   ]
  },
  {
   "cell_type": "code",
   "execution_count": 93,
   "metadata": {},
   "outputs": [],
   "source": [
    "def predictions(pred):\n",
    "    sentence_full=[]\n",
    "    for sentence in pred:#Taking every sentence\n",
    "        sent=''\n",
    "        for char in sentence:\n",
    "            if char==33:\n",
    "                break\n",
    "            else:\n",
    "                sent+=index2letter[char]\n",
    "        sentence_full.append(sent)\n",
    "    return sentence_full"
   ]
  },
  {
   "cell_type": "code",
   "execution_count": 94,
   "metadata": {},
   "outputs": [],
   "source": [
    "#For computing the distance\n",
    "def LevScore(preds, targets):\n",
    "    res = 0.0\n",
    "    for i in range(len(preds)):\n",
    "        dist = lev.distance(preds[i], targets[i])\n",
    "        res += dist\n",
    "        \n",
    "    return res#Average Levenstein Distance over the batch"
   ]
  },
  {
   "cell_type": "code",
   "execution_count": 95,
   "metadata": {},
   "outputs": [
    {
     "name": "stdout",
     "output_type": "stream",
     "text": [
      "43\n"
     ]
    }
   ],
   "source": [
    "#now we should build the model\n",
    "print(len(LETTER_LIST))\n",
    "model = Seq2Seq(input_dim=129, vocab_size=len(LETTER_LIST), hidden_dim=256)\n",
    "optimizer = optim.Adam(model.parameters(), lr=0.001)\n",
    "criterion = nn.CrossEntropyLoss(reduction='none')\n",
    "criterion_dia = nn.CrossEntropyLoss(reduction='none')\n",
    "nepochs = 30"
   ]
  },
  {
   "cell_type": "code",
   "execution_count": 96,
   "metadata": {},
   "outputs": [
    {
     "data": {
      "text/plain": [
       "Seq2Seq(\n",
       "  (encoder): Encoder(\n",
       "    (lstm): LSTM(129, 256, num_layers=5, batch_first=True, dropout=0.5, bidirectional=True)\n",
       "    (pBLSTM1): pBLSTM(\n",
       "      (blstm): LSTM(1024, 256, num_layers=2, batch_first=True, dropout=0.1, bidirectional=True)\n",
       "      (lockdrop): LockedDropout()\n",
       "    )\n",
       "    (pBLSTM2): pBLSTM(\n",
       "      (blstm): LSTM(1024, 256, num_layers=2, batch_first=True, dropout=0.1, bidirectional=True)\n",
       "      (lockdrop): LockedDropout()\n",
       "    )\n",
       "    (pBLSTM3): pBLSTM(\n",
       "      (blstm): LSTM(1024, 256, num_layers=2, batch_first=True, dropout=0.1, bidirectional=True)\n",
       "      (lockdrop): LockedDropout()\n",
       "    )\n",
       "    (key_network): Linear(in_features=512, out_features=256, bias=True)\n",
       "    (value_network): Linear(in_features=512, out_features=256, bias=True)\n",
       "    (lockdrop): LockedDropout()\n",
       "  )\n",
       "  (decoder): Decoder(\n",
       "    (embedding): Embedding(43, 512, padding_idx=42)\n",
       "    (lstm1): LSTMCell(768, 256)\n",
       "    (lstm2): LSTMCell(256, 256)\n",
       "    (attention): Attention()\n",
       "    (character_prob): Linear(in_features=512, out_features=43, bias=True)\n",
       "  )\n",
       "  (fc1): Linear(in_features=512, out_features=52, bias=True)\n",
       ")"
      ]
     },
     "execution_count": 96,
     "metadata": {},
     "output_type": "execute_result"
    }
   ],
   "source": [
    "device=torch.device(\"cuda:0\" if torch.cuda.is_available() else \"cpu\")\n",
    "model.to(device)\n",
    "model"
   ]
  },
  {
   "cell_type": "code",
   "execution_count": 121,
   "metadata": {},
   "outputs": [],
   "source": [
    "def train(model, train_loader, criterion, optimizer, epoch, teacherForcingRate, criterion_dia):\n",
    "    model.train()\n",
    "    model.to(device)\n",
    "    \n",
    "    train_loss=0\n",
    "    dia_loss = 0\n",
    "    \n",
    "    \n",
    "    for batch_idx,(inp,inp_len,target,target_len,speaker,speaker_len) in enumerate(train_loader):\n",
    "        start = time.time()\n",
    "        \n",
    "        # Set the inputs to the device.\n",
    "        inp,target,speaker = inp.to(device),target.to(device), speaker.to(device)\n",
    "        \n",
    "        optimizer.zero_grad()\n",
    "        output, dia_output = model(epoch,batch_idx,teacherForcingRate,inp, inp_len, target,True)\n",
    "        \n",
    "        # Process Diarization Module\n",
    "        temp = torch.mean(dia_output, 1)\n",
    "        \n",
    "        speaker = torch.argmax(speaker, dim=1)\n",
    "        loss_dia = criterion_dia(temp,speaker)\n",
    "        \n",
    "        loss_dia = loss_dia.sum()\n",
    "\n",
    "        dia_loss += loss_dia.item()\n",
    "        \n",
    "        \n",
    "        # Process Recognition Module\n",
    "        mask = torch.arange(max(target_len)).unsqueeze(0) >= target_len.int().unsqueeze(1)#Switching Masks\n",
    "        mask=mask.to(device)\n",
    "\n",
    "        output.contiguous() \n",
    "        loss=criterion(output.view(-1,output.shape[2]),target.contiguous().view(-1))\n",
    "\n",
    "        loss.masked_fill_(mask.contiguous().view(-1),0)\n",
    "        \n",
    "        loss=loss.mean()\n",
    "        total_loss = loss + loss_dia\n",
    "        total_loss.backward()\n",
    "\n",
    "        torch.nn.utils.clip_grad_norm(model.parameters(), 2)\n",
    "\n",
    "        optimizer.step()\n",
    "\n",
    "        train_loss+=loss.item()\n",
    "\n",
    "        del inp\n",
    "        del inp_len\n",
    "        del target\n",
    "        del target_len\n",
    "        del speaker\n",
    "        del speaker_len\n",
    "        stop = time.time()\n",
    "        torch.cuda.empty_cache()\n",
    "        \n",
    "        if batch_idx % 10 == 0:\n",
    "            print('B: %d / %d, avg_loss: %.3f, avg_loss_dia: %.3f, Time Taken : %.3f, ' % (batch_idx+1, len(train_loader),train_loss/(batch_idx+1),dia_loss/(batch_idx+1),stop-start),end='\\n ')\n",
    "    \n",
    "\n",
    "def validation(model, valid_loader):\n",
    "    valid_loss=0\n",
    "    total_dist_score=0\n",
    "    model.eval()\n",
    "    seq_len=0\n",
    "    dist_score=0\n",
    "    correct_num = 0\n",
    "    dia_loss = 0.0\n",
    "    \n",
    "    for batch_idx,(inp,inp_len,target,target_len,speaker,speaker_len) in enumerate(valid_loader):\n",
    "        start = time.time()\n",
    "        inp,target,speaker = inp.to(device),target.to(device),speaker.to(device)\n",
    "        \n",
    "        output, dia_output = model(epoch,batch_idx,None,inp, inp_len, None, False)\n",
    "        \n",
    "        temp = torch.mean(dia_output, 1)\n",
    "        \n",
    "        speaker = torch.argmax(speaker, dim=1)\n",
    "        predicted = torch.argmax(temp, dim = 1)\n",
    "        print(predicted)\n",
    "        loss_dia = criterion(temp,speaker)\n",
    "        \n",
    "        for n in range(len(predicted)):\n",
    "            if predicted[n] == speaker[n]:\n",
    "                correct_num += 1\n",
    "        \n",
    "        loss_dia = loss_dia.sum()\n",
    "        dia_loss += loss_dia.item()\n",
    "        \n",
    "        pred = predictions(output.argmax(-1).detach().cpu().numpy())\n",
    "        target = predictions(target.detach().cpu().numpy())\n",
    "        \n",
    "\n",
    "        dist_score += LevScore(pred,target)\n",
    "        seq_len += len(pred)\n",
    "        \n",
    "        del inp\n",
    "        del inp_len\n",
    "        del target_len\n",
    "        del speaker\n",
    "        del speaker_len\n",
    "        stop = time.time()\n",
    "        torch.cuda.empty_cache()\n",
    "    print(\"prediciton :\",pred[2])\n",
    "    print(\"Target : \",target[2])\n",
    "    print('Distance Score: %.3f ' % (dist_score/seq_len),end='\\n ')\n",
    "    print('Loss in Diarization:', dia_loss/seq_len, 'Correct prediction:', correct_num, 'se1_len:', seq_len)\n",
    "    return dist_score/seq_len, correct_num, dia_loss/seq_len, seq_len"
   ]
  },
  {
   "cell_type": "code",
   "execution_count": 122,
   "metadata": {},
   "outputs": [],
   "source": [
    "start_epoch=0"
   ]
  },
  {
   "cell_type": "code",
   "execution_count": 123,
   "metadata": {},
   "outputs": [],
   "source": [
    "# mn = torch.load(\"epoch33\")\n",
    "# model.load_state_dict(mn['model_state'])\n",
    "# optimizer.load_state_dict(mn['opti_state'])\n",
    "# model.to(device)"
   ]
  },
  {
   "cell_type": "code",
   "execution_count": 124,
   "metadata": {},
   "outputs": [],
   "source": [
    "# for param_group in optimizer.param_groups:\n",
    "#         param_group['lr'] = 0.0005"
   ]
  },
  {
   "cell_type": "code",
   "execution_count": 125,
   "metadata": {},
   "outputs": [],
   "source": [
    "scheduler = optim.lr_scheduler.ReduceLROnPlateau(optimizer, factor=0.5, patience=2)"
   ]
  },
  {
   "cell_type": "code",
   "execution_count": 126,
   "metadata": {
    "scrolled": true
   },
   "outputs": [
    {
     "name": "stdout",
     "output_type": "stream",
     "text": [
      "Teacher Forcing : 0.15\n",
      "epoch: 0\n",
      "0.001\n"
     ]
    },
    {
     "name": "stderr",
     "output_type": "stream",
     "text": [
      "/home/ubuntu/anaconda3/envs/pytorch_p36/lib/python3.6/site-packages/torch/utils/data/dataloader.py:477: UserWarning: This DataLoader will create 8 worker processes in total. Our suggested max number of worker in current system is 4, which is smaller than what this DataLoader is going to create. Please be aware that excessive worker creation might get DataLoader running slow or even freeze, lower the worker number to avoid potential slowness/freeze if necessary.\n",
      "  cpuset_checked))\n",
      "/home/ubuntu/anaconda3/envs/pytorch_p36/lib/python3.6/site-packages/ipykernel_launcher.py:42: UserWarning: torch.nn.utils.clip_grad_norm is now deprecated in favor of torch.nn.utils.clip_grad_norm_.\n"
     ]
    },
    {
     "name": "stdout",
     "output_type": "stream",
     "text": [
      "B: 1 / 9, avg_loss: 0.699, avg_loss_dia: 505.929, Time Taken : 2.276, \n",
      " "
     ]
    },
    {
     "data": {
      "image/png": "[encoded data removed]",
      "text/plain": [
       "<Figure size 432x288 with 2 Axes>"
      ]
     },
     "metadata": {
      "needs_background": "light"
     },
     "output_type": "display_data"
    },
    {
     "name": "stdout",
     "output_type": "stream",
     "text": [
      "all_attentions shape : torch.Size([91, 96, 105])\n",
      "tensor([0, 0, 0, 0, 0, 0, 0, 0, 0, 0, 0, 0, 0, 0, 0, 0, 0, 0, 0, 0, 0, 0, 0, 0,\n",
      "        0, 0, 0, 0, 0, 0, 0, 0, 0, 0, 0, 0, 0, 0, 0, 0, 0, 0, 0, 0, 0, 0, 0, 0,\n",
      "        0, 0, 0, 0, 0, 0, 0, 0, 0, 0, 0, 0, 0, 0, 0, 0, 0, 0, 0, 0, 0, 0, 0, 0,\n",
      "        0, 0, 0, 0, 0, 0, 0, 0, 0, 0, 0, 0, 0, 0, 0, 0, 0, 0, 0, 0, 0, 0, 0, 0,\n",
      "        0, 0, 0, 0, 0, 0, 0, 0, 0, 0, 0, 0, 0, 0, 0, 0, 0, 0, 0, 0, 0, 0, 0, 0,\n",
      "        0, 0, 0, 0, 0, 0, 0, 0], device='cuda:0')\n",
      "tensor([0, 0, 0, 0, 0, 0, 0, 0, 0, 0, 0, 0, 0, 0, 0, 0, 0, 0, 0, 0, 0, 0, 0, 0,\n",
      "        0, 0, 0, 0, 0, 0, 0, 0, 0, 0, 0, 0, 0, 0, 0, 0, 0, 0, 0, 0, 0, 0, 0, 0,\n",
      "        0, 0, 0, 0, 0, 0, 0, 0, 0, 0, 0, 0, 0, 0, 0, 0, 0, 0, 0, 0, 0, 0, 0, 0,\n",
      "        0, 0, 0, 0, 0, 0, 0, 0, 0, 0, 0, 0, 0, 0, 0, 0, 0, 0, 0, 0, 0, 0, 0, 0,\n",
      "        0, 0, 0, 0, 0, 0, 0, 0, 0, 0, 0, 0, 0, 0, 0, 0, 0, 0, 0, 0, 0, 0, 0, 0,\n",
      "        0, 0, 0, 0, 0, 0, 0, 0], device='cuda:0')\n",
      "tensor([0, 0, 0, 0, 0, 0, 0, 0, 0, 0, 0, 0, 0, 0, 0, 0, 0, 0, 0, 0, 0, 0],\n",
      "       device='cuda:0')\n",
      "prediciton : thet at it there tored tore tored tore tored tore tored tore tored tore tored tore tored tore tored tore tored tore tored tore tored tore tored tore tored tore tored tore tored tore tored tore tored tore tored tore tored tore tored tore tored tore tored tore tored tore tored tore tored tore tored tore tored tore tored tore tored tore tored tore tored tore tored tore tored tore tored tore tored tore tored tore tored tore tored tore tored tore tored tore tored tore tored tore tored tore tored tore tored tore tored tore tored tore tored tore tored tore tored tore tored tore tored tore tored tore \n",
      "Target :  uh... never mind.\n",
      "Distance Score: 584.385 \n",
      " Loss in Diarization: 2.465077571731677 Correct prediction: 82 se1_len: 278\n",
      "Teacher Forcing : 0.15\n",
      "epoch: 1\n",
      "0.001\n",
      "B: 1 / 9, avg_loss: 0.681, avg_loss_dia: 306.170, Time Taken : 2.219, \n",
      " "
     ]
    },
    {
     "data": {
      "image/png": "[encoded data removed]",
      "text/plain": [
       "<Figure size 432x288 with 2 Axes>"
      ]
     },
     "metadata": {
      "needs_background": "light"
     },
     "output_type": "display_data"
    },
    {
     "name": "stdout",
     "output_type": "stream",
     "text": [
      "all_attentions shape : torch.Size([91, 103, 75])\n",
      "tensor([0, 0, 0, 0, 0, 0, 0, 0, 0, 0, 0, 0, 0, 0, 0, 0, 0, 0, 0, 0, 0, 0, 0, 0,\n",
      "        0, 0, 0, 0, 0, 0, 0, 0, 0, 0, 0, 0, 0, 0, 0, 0, 0, 0, 0, 0, 0, 0, 0, 0,\n",
      "        0, 0, 0, 0, 0, 0, 0, 0, 0, 0, 0, 0, 0, 0, 0, 0, 0, 0, 0, 0, 0, 0, 0, 0,\n",
      "        0, 0, 0, 0, 0, 0, 0, 0, 0, 0, 0, 0, 0, 0, 0, 0, 0, 0, 0, 0, 0, 0, 0, 0,\n",
      "        0, 0, 0, 0, 0, 0, 0, 0, 0, 0, 0, 0, 0, 0, 0, 0, 0, 0, 0, 0, 0, 0, 0, 0,\n",
      "        0, 0, 0, 0, 0, 0, 0, 0], device='cuda:0')\n",
      "tensor([0, 0, 0, 0, 0, 0, 0, 0, 0, 0, 0, 0, 0, 0, 0, 0, 0, 0, 0, 0, 0, 0, 0, 0,\n",
      "        0, 0, 0, 0, 0, 0, 0, 0, 0, 0, 0, 0, 0, 0, 0, 0, 0, 0, 0, 0, 0, 0, 0, 0,\n",
      "        0, 0, 0, 0, 0, 0, 0, 0, 0, 0, 0, 0, 0, 0, 0, 0, 0, 0, 0, 0, 0, 0, 0, 0,\n",
      "        0, 0, 0, 0, 0, 0, 0, 0, 0, 0, 0, 0, 0, 0, 0, 0, 0, 0, 0, 0, 0, 0, 0, 0,\n",
      "        0, 0, 0, 0, 0, 0, 0, 0, 0, 0, 0, 0, 0, 0, 0, 0, 0, 0, 0, 0, 0, 0, 0, 0,\n",
      "        0, 0, 0, 0, 0, 0, 0, 0], device='cuda:0')\n",
      "tensor([0, 0, 0, 0, 0, 0, 0, 0, 0, 0, 0, 0, 0, 0, 0, 0, 0, 0, 0, 0, 0, 0],\n",
      "       device='cuda:0')\n",
      "prediciton : that in  ou ther tour ther  ou ther tour ther  ou ther tour ther  ou ther tour ther  ou ther tour ther  ou ther tour ther  ou ther tour ther  ou ther tour ther  ou ther tour ther  ou ther tour ther  ou ther tour ther  ou ther tour ther  ou ther tour ther  ou ther tour ther  ou ther tour ther  ou ther tour ther  ou ther tour ther  ou ther tour ther  ou ther tour ther  ou ther tour ther  ou ther tour ther  ou ther tour ther  ou ther tour ther  ou ther tour ther  ou ther tour ther  ou ther tour ther  ou ther tour ther  ou ther tour ther  ou ther tour ther  ou ther tour ther  ou ther tour ther  ou\n",
      "Target :  uh... never mind.\n",
      "Distance Score: 582.691 \n",
      " Loss in Diarization: 2.448039802715933 Correct prediction: 82 se1_len: 278\n",
      "Teacher Forcing : 0.15\n",
      "epoch: 2\n",
      "0.001\n",
      "B: 1 / 9, avg_loss: 0.651, avg_loss_dia: 314.265, Time Taken : 2.345, \n",
      " "
     ]
    },
    {
     "ename": "KeyboardInterrupt",
     "evalue": "",
     "output_type": "error",
     "traceback": [
      "\u001b[0;31m---------------------------------------------------------------------------\u001b[0m",
      "\u001b[0;31mKeyboardInterrupt\u001b[0m                         Traceback (most recent call last)",
      "\u001b[0;32m<ipython-input-126-0bfb071c9c45>\u001b[0m in \u001b[0;36m<module>\u001b[0;34m()\u001b[0m\n\u001b[1;32m      9\u001b[0m         \u001b[0mprint\u001b[0m\u001b[0;34m(\u001b[0m\u001b[0mparam_group\u001b[0m\u001b[0;34m[\u001b[0m\u001b[0;34m'lr'\u001b[0m\u001b[0;34m]\u001b[0m\u001b[0;34m)\u001b[0m\u001b[0;34m\u001b[0m\u001b[0;34m\u001b[0m\u001b[0m\n\u001b[1;32m     10\u001b[0m \u001b[0;34m\u001b[0m\u001b[0m\n\u001b[0;32m---> 11\u001b[0;31m     \u001b[0mtrain\u001b[0m\u001b[0;34m(\u001b[0m\u001b[0mmodel\u001b[0m\u001b[0;34m,\u001b[0m \u001b[0mtrain_loader\u001b[0m\u001b[0;34m,\u001b[0m \u001b[0mcriterion\u001b[0m\u001b[0;34m,\u001b[0m \u001b[0moptimizer\u001b[0m\u001b[0;34m,\u001b[0m \u001b[0mepoch\u001b[0m\u001b[0;34m,\u001b[0m\u001b[0mtf\u001b[0m\u001b[0;34m,\u001b[0m \u001b[0mcriterion_dia\u001b[0m\u001b[0;34m)\u001b[0m\u001b[0;34m\u001b[0m\u001b[0;34m\u001b[0m\u001b[0m\n\u001b[0m\u001b[1;32m     12\u001b[0m     \u001b[0mdis\u001b[0m\u001b[0;34m,\u001b[0m \u001b[0mcorrect\u001b[0m\u001b[0;34m,\u001b[0m \u001b[0mdia_loss\u001b[0m\u001b[0;34m,\u001b[0m \u001b[0mseq_len\u001b[0m \u001b[0;34m=\u001b[0m \u001b[0mvalidation\u001b[0m\u001b[0;34m(\u001b[0m\u001b[0mmodel\u001b[0m\u001b[0;34m,\u001b[0m \u001b[0mvalid_loader\u001b[0m\u001b[0;34m)\u001b[0m\u001b[0;34m\u001b[0m\u001b[0;34m\u001b[0m\u001b[0m\n\u001b[1;32m     13\u001b[0m \u001b[0;34m\u001b[0m\u001b[0m\n",
      "\u001b[0;32m<ipython-input-121-4d1c2fed8122>\u001b[0m in \u001b[0;36mtrain\u001b[0;34m(model, train_loader, criterion, optimizer, epoch, teacherForcingRate, criterion_dia)\u001b[0m\n\u001b[1;32m     38\u001b[0m         \u001b[0mloss\u001b[0m\u001b[0;34m=\u001b[0m\u001b[0mloss\u001b[0m\u001b[0;34m.\u001b[0m\u001b[0mmean\u001b[0m\u001b[0;34m(\u001b[0m\u001b[0;34m)\u001b[0m\u001b[0;34m\u001b[0m\u001b[0;34m\u001b[0m\u001b[0m\n\u001b[1;32m     39\u001b[0m         \u001b[0mtotal_loss\u001b[0m \u001b[0;34m=\u001b[0m \u001b[0mloss\u001b[0m \u001b[0;34m+\u001b[0m \u001b[0mloss_dia\u001b[0m\u001b[0;34m\u001b[0m\u001b[0;34m\u001b[0m\u001b[0m\n\u001b[0;32m---> 40\u001b[0;31m         \u001b[0mtotal_loss\u001b[0m\u001b[0;34m.\u001b[0m\u001b[0mbackward\u001b[0m\u001b[0;34m(\u001b[0m\u001b[0;34m)\u001b[0m\u001b[0;34m\u001b[0m\u001b[0;34m\u001b[0m\u001b[0m\n\u001b[0m\u001b[1;32m     41\u001b[0m \u001b[0;34m\u001b[0m\u001b[0m\n\u001b[1;32m     42\u001b[0m         \u001b[0mtorch\u001b[0m\u001b[0;34m.\u001b[0m\u001b[0mnn\u001b[0m\u001b[0;34m.\u001b[0m\u001b[0mutils\u001b[0m\u001b[0;34m.\u001b[0m\u001b[0mclip_grad_norm\u001b[0m\u001b[0;34m(\u001b[0m\u001b[0mmodel\u001b[0m\u001b[0;34m.\u001b[0m\u001b[0mparameters\u001b[0m\u001b[0;34m(\u001b[0m\u001b[0;34m)\u001b[0m\u001b[0;34m,\u001b[0m \u001b[0;36m2\u001b[0m\u001b[0;34m)\u001b[0m\u001b[0;34m\u001b[0m\u001b[0;34m\u001b[0m\u001b[0m\n",
      "\u001b[0;32m/home/ubuntu/anaconda3/envs/pytorch_p36/lib/python3.6/site-packages/torch/tensor.py\u001b[0m in \u001b[0;36mbackward\u001b[0;34m(self, gradient, retain_graph, create_graph, inputs)\u001b[0m\n\u001b[1;32m    243\u001b[0m                 \u001b[0mcreate_graph\u001b[0m\u001b[0;34m=\u001b[0m\u001b[0mcreate_graph\u001b[0m\u001b[0;34m,\u001b[0m\u001b[0;34m\u001b[0m\u001b[0;34m\u001b[0m\u001b[0m\n\u001b[1;32m    244\u001b[0m                 inputs=inputs)\n\u001b[0;32m--> 245\u001b[0;31m         \u001b[0mtorch\u001b[0m\u001b[0;34m.\u001b[0m\u001b[0mautograd\u001b[0m\u001b[0;34m.\u001b[0m\u001b[0mbackward\u001b[0m\u001b[0;34m(\u001b[0m\u001b[0mself\u001b[0m\u001b[0;34m,\u001b[0m \u001b[0mgradient\u001b[0m\u001b[0;34m,\u001b[0m \u001b[0mretain_graph\u001b[0m\u001b[0;34m,\u001b[0m \u001b[0mcreate_graph\u001b[0m\u001b[0;34m,\u001b[0m \u001b[0minputs\u001b[0m\u001b[0;34m=\u001b[0m\u001b[0minputs\u001b[0m\u001b[0;34m)\u001b[0m\u001b[0;34m\u001b[0m\u001b[0;34m\u001b[0m\u001b[0m\n\u001b[0m\u001b[1;32m    246\u001b[0m \u001b[0;34m\u001b[0m\u001b[0m\n\u001b[1;32m    247\u001b[0m     \u001b[0;32mdef\u001b[0m \u001b[0mregister_hook\u001b[0m\u001b[0;34m(\u001b[0m\u001b[0mself\u001b[0m\u001b[0;34m,\u001b[0m \u001b[0mhook\u001b[0m\u001b[0;34m)\u001b[0m\u001b[0;34m:\u001b[0m\u001b[0;34m\u001b[0m\u001b[0;34m\u001b[0m\u001b[0m\n",
      "\u001b[0;32m/home/ubuntu/anaconda3/envs/pytorch_p36/lib/python3.6/site-packages/torch/autograd/__init__.py\u001b[0m in \u001b[0;36mbackward\u001b[0;34m(tensors, grad_tensors, retain_graph, create_graph, grad_variables, inputs)\u001b[0m\n\u001b[1;32m    145\u001b[0m     Variable._execution_engine.run_backward(\n\u001b[1;32m    146\u001b[0m         \u001b[0mtensors\u001b[0m\u001b[0;34m,\u001b[0m \u001b[0mgrad_tensors_\u001b[0m\u001b[0;34m,\u001b[0m \u001b[0mretain_graph\u001b[0m\u001b[0;34m,\u001b[0m \u001b[0mcreate_graph\u001b[0m\u001b[0;34m,\u001b[0m \u001b[0minputs\u001b[0m\u001b[0;34m,\u001b[0m\u001b[0;34m\u001b[0m\u001b[0;34m\u001b[0m\u001b[0m\n\u001b[0;32m--> 147\u001b[0;31m         allow_unreachable=True, accumulate_grad=True)  # allow_unreachable flag\n\u001b[0m\u001b[1;32m    148\u001b[0m \u001b[0;34m\u001b[0m\u001b[0m\n\u001b[1;32m    149\u001b[0m \u001b[0;34m\u001b[0m\u001b[0m\n",
      "\u001b[0;31mKeyboardInterrupt\u001b[0m: "
     ]
    }
   ],
   "source": [
    "best_dis = 1000\n",
    "for epoch in range(10):#New architecture with Encoder hidden dim=256 and Decoder hidden_dim=512 increased and encoder output increased\n",
    "    \n",
    "    tf=0.15\n",
    "        \n",
    "    print(\"Teacher Forcing :\",tf)\n",
    "    print(\"epoch:\", epoch)\n",
    "    for param_group in optimizer.param_groups:\n",
    "        print(param_group['lr'])\n",
    "    \n",
    "    train(model, train_loader, criterion, optimizer, epoch,tf, criterion_dia)\n",
    "    dis, correct, dia_loss, seq_len = validation(model, valid_loader)\n",
    "\n",
    "#     scheduler.step(dis)\n",
    "#    torch.save({'model_state': model.state_dict(), 'opti_state': optimizer.state_dict(), 'val_dis': dis}, \"epoch\"+str(epoch))\n",
    "  "
   ]
  },
  {
   "cell_type": "code",
   "execution_count": null,
   "metadata": {},
   "outputs": [],
   "source": []
  }
 ],
 "metadata": {
  "kernelspec": {
   "display_name": "Python 3",
   "language": "python",
   "name": "python3"
  },
  "language_info": {
   "codemirror_mode": {
    "name": "ipython",
    "version": 3
   },
   "file_extension": ".py",
   "mimetype": "text/x-python",
   "name": "python",
   "nbconvert_exporter": "python",
   "pygments_lexer": "ipython3",
   "version": "3.6.13"
  }
 },
 "nbformat": 4,
 "nbformat_minor": 4
}